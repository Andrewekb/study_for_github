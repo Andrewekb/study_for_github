{
 "cells": [
  {
   "cell_type": "code",
   "execution_count": null,
   "metadata": {},
   "outputs": [],
   "source": [
    "# для примера использую библиотеку neuralprophet\n",
    "import pandas as pd\n",
    "import numpy as np\n",
    "from neuralprophet import NeuralProphet\n",
    "import os\n",
    "import pickle\n",
    "from tqdm.auto import tqdm\n",
    "import datetime"
   ]
  },
  {
   "cell_type": "code",
   "execution_count": null,
   "metadata": {},
   "outputs": [],
   "source": [
    "os.getcwd()"
   ]
  },
  {
   "cell_type": "code",
   "execution_count": null,
   "metadata": {},
   "outputs": [],
   "source": [
    "os.chdir('/Users/andrejmironov/Documents/study_for_github/ML/Total')"
   ]
  },
  {
   "cell_type": "code",
   "execution_count": null,
   "metadata": {},
   "outputs": [],
   "source": [
    "airports = pd.read_csv('airports.csv')\n",
    "fligshts = pd.read_csv('flights.csv')"
   ]
  },
  {
   "cell_type": "code",
   "execution_count": null,
   "metadata": {},
   "outputs": [],
   "source": [
    "fligshts['Date'] = pd.to_datetime(fligshts[['YEAR','MONTH', 'DAY']])\n"
   ]
  },
  {
   "cell_type": "code",
   "execution_count": null,
   "metadata": {},
   "outputs": [],
   "source": [
    "#объединяю данные, что бы в данных было найменование аэропорта и код аэропорта\n",
    "#датасет с цифровой расшифровкой аэропортов не нашел, здесь так же удаляю эти данные\n",
    "\n",
    "fligshts = fligshts.merge(airports, how='right', left_on='ORIGIN_AIRPORT', right_on='IATA_CODE')"
   ]
  },
  {
   "cell_type": "code",
   "execution_count": null,
   "metadata": {},
   "outputs": [],
   "source": [
    "# получаю список аэропортов вылета, для примера взял топ 5 по количеству авиарейсов\n",
    "\n",
    "ORIGIN_AIRPORT = list(fligshts.groupby('ORIGIN_AIRPORT')['Date'].count().sort_values().tail(5).reset_index()['ORIGIN_AIRPORT'].unique())\n"
   ]
  },
  {
   "cell_type": "code",
   "execution_count": null,
   "metadata": {},
   "outputs": [],
   "source": [
    "#из списка выше формирую новый датасет\n",
    "fligshts.query(\"ORIGIN_AIRPORT in @ORIGIN_AIRPORT\", inplace=True)"
   ]
  },
  {
   "cell_type": "code",
   "execution_count": null,
   "metadata": {},
   "outputs": [],
   "source": [
    "#то же для аэропортов отправления\n",
    "destanation = list(fligshts.DESTINATION_AIRPORT.unique())\n",
    "destanation = destanation[0:5]\n",
    "fligshts.query(\"DESTINATION_AIRPORT in @destanation\", inplace=True)"
   ]
  },
  {
   "cell_type": "code",
   "execution_count": null,
   "metadata": {},
   "outputs": [],
   "source": [
    "#выбираю колонки\n",
    "fligshts = fligshts[['Date', 'ORIGIN_AIRPORT', 'DEPARTURE_DELAY', 'DESTINATION_AIRPORT', 'ARRIVAL_DELAY']].reset_index()\n",
    "fligshts.dropna(inplace=True)"
   ]
  },
  {
   "cell_type": "code",
   "execution_count": null,
   "metadata": {},
   "outputs": [],
   "source": [
    "#меняю тип данных\n",
    "fligshts['ARRIVAL_DELAY'] = fligshts['ARRIVAL_DELAY'].astype('int')\n",
    "fligshts['DEPARTURE_DELAY'] = fligshts['DEPARTURE_DELAY'].astype('int')\n"
   ]
  },
  {
   "cell_type": "code",
   "execution_count": null,
   "metadata": {},
   "outputs": [],
   "source": [
    "#здесь формирую колонку PROBABILITY - если самолет опоздал, то значение 0\n",
    "#прилетел раньше или в срок - значение 1\n",
    "\n",
    "\n",
    "fligshts['PROBABILITY'] = np.where(fligshts['DEPARTURE_DELAY']>0, 0, 1)\n"
   ]
  },
  {
   "cell_type": "code",
   "execution_count": null,
   "metadata": {},
   "outputs": [],
   "source": [
    "#в данных есть пропуск месяца - октябрь\n",
    "fligshts = fligshts.loc[fligshts['Date'].between('2015-01-01', '2015-09-01')]"
   ]
  },
  {
   "cell_type": "code",
   "execution_count": null,
   "metadata": {},
   "outputs": [],
   "source": [
    "# создаем каталоги для аэропортов отправления\n",
    "for airport in ORIGIN_AIRPORT:\n",
    "    os.mkdir(\"{}\".format(airport))"
   ]
  },
  {
   "cell_type": "code",
   "execution_count": null,
   "metadata": {},
   "outputs": [],
   "source": [
    "# обучаем модель\n",
    "\n",
    "for airport in tqdm(ORIGIN_AIRPORT):\n",
    "    rsme = pd.DataFrame() - #далее буду добавлять метрику на обучающей выборке\n",
    "    df = fligshts.query(f'ORIGIN_AIRPORT == \"{airport}\"') #датафрейм с конкретным аэропортом прилета\n",
    "    DESTINATION_AIRPORT = list(df.DESTINATION_AIRPORT.unique()) #список аэропортов прилета для конкретного аэропорта вылета\n",
    "    DESTINATION_AIRPORT = DESTINATION_AIRPORT[0:5]\n",
    "    for d_airport in tqdm(DESTINATION_AIRPORT):\n",
    "        A = df.query(f'DESTINATION_AIRPORT == \"{d_airport}\"') #фрейм с конкретным аэропортом прилета\n",
    "        if A.shape[0] > 10:\n",
    "            B = A.groupby('Date')['PROBABILITY'].mean().reset_index() #фрейм с датой и средним значением вероятности задержки в этот аэропорт по дням\n",
    "            B.columns = ['ds', 'y'] #привожу колонки к наименованию, которые необходимы для модели\n",
    "            m = NeuralProphet(weekly_seasonality = True, daily_seasonality = False, seasonality_mode='multiplicative') #создаем экземпляр класса, \n",
    "                                                                                                                        #добавляю параметр сезонный шаблон\n",
    "            m = m.add_country_holidays(\"US\") #добавляю список праздников в стране\n",
    "            metrix = m.fit(B, freq=\"D\") #обучаем модель\n",
    "            a = float(metrix.RMSE[-1:]) #из последней эпохи обучения сохраняю значение RSME\n",
    "            d = {'name':'{}'.format(d_airport), 'rsme':a}# в словарь добавляю аэропорт отправления и соответствующую ему метрику\n",
    "            rsme = rsme.append(d, ignore_index=True) #добавляю данные в фрейм\n",
    "            with open('{}'.format(airport)+'/'+'{}'.format(d_airport)+'.pkl', 'wb') as f: # записываем модель\n",
    "                pickle.dump(m, f)\n",
    "\n",
    "        with open('{}'.format(airport)+'/'+'metrix'+'.pkl', 'wb') as f: # записываем метрики\n",
    "            pickle.dump(rsme, f)\n",
    "  "
   ]
  },
  {
   "cell_type": "code",
   "execution_count": null,
   "metadata": {},
   "outputs": [],
   "source": [
    "# Выборку из flights сохраняю в файл, нужен для второго файла stream.py\n",
    "fligshts.to_csv('flights_2.csv') "
   ]
  }
 ],
 "metadata": {
  "kernelspec": {
   "display_name": "total_project",
   "language": "python",
   "name": "python3"
  },
  "language_info": {
   "codemirror_mode": {
    "name": "ipython",
    "version": 3
   },
   "file_extension": ".py",
   "mimetype": "text/x-python",
   "name": "python",
   "nbconvert_exporter": "python",
   "pygments_lexer": "ipython3",
   "version": "3.9.13"
  },
  "orig_nbformat": 4,
  "vscode": {
   "interpreter": {
    "hash": "f9b21516205f1e5ca30714da32a8b764c04a24e7a5e8d37531908049fcea1ddd"
   }
  }
 },
 "nbformat": 4,
 "nbformat_minor": 2
}
