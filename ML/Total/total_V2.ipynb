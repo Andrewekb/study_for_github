{
 "cells": [
  {
   "cell_type": "code",
   "execution_count": null,
   "metadata": {},
   "outputs": [],
   "source": [
    "# для примера использую библиотеку neuralprophet\n",
    "import pandas as pd\n",
    "import numpy as np\n",
    "from neuralprophet import NeuralProphet\n",
    "import os\n",
    "import pickle\n",
    "from tqdm.auto import tqdm"
   ]
  },
  {
   "cell_type": "markdown",
   "metadata": {},
   "source": [
    "И второй вариант, если модель строить только на данных аэропорта прилета, метрика RSME в этом случае\n",
    "значительно лучше, менее 10% за счет большего объема данных"
   ]
  },
  {
   "cell_type": "code",
   "execution_count": null,
   "metadata": {},
   "outputs": [],
   "source": [
    "airports = pd.read_csv('airports.csv')\n",
    "fligshts = pd.read_csv('flights.csv')"
   ]
  },
  {
   "cell_type": "code",
   "execution_count": null,
   "metadata": {},
   "outputs": [],
   "source": [
    "#объединяю данные, что бы в данных было найменование аэропорта и код аэропорта\n",
    "#датасет с цифровой расшифровкой аэропортов не нашел, здесь так же удаляю эти данные\n",
    "\n",
    "fligshts = fligshts.merge(airports, how='right', left_on='ORIGIN_AIRPORT', right_on='IATA_CODE')"
   ]
  },
  {
   "cell_type": "code",
   "execution_count": null,
   "metadata": {},
   "outputs": [],
   "source": [
    "#добавляю колонку с датой в формате datetime64\n",
    "\n",
    "fligshts['Date'] = fligshts[['YEAR','MONTH','DAY']].astype('str').agg('-'. join , axis= 1)\n",
    "fligshts['Date'] = pd.to_datetime(fligshts['Date']).dt.date.astype('datetime64[ns]')\n",
    "\n",
    "#удаляю колонки с датой, месяцем, годом\n",
    "\n",
    "fligshts.drop(['YEAR', 'DAY', 'MONTH'], axis=1, inplace=True)"
   ]
  },
  {
   "cell_type": "code",
   "execution_count": null,
   "metadata": {},
   "outputs": [],
   "source": [
    "fligshts = fligshts[['Date', 'ORIGIN_AIRPORT', 'DEPARTURE_DELAY', 'DESTINATION_AIRPORT', 'ARRIVAL_DELAY']].reset_index()\n",
    "fligshts.dropna(inplace=True)"
   ]
  },
  {
   "cell_type": "code",
   "execution_count": null,
   "metadata": {},
   "outputs": [],
   "source": [
    "fligshts['ARRIVAL_DELAY'] = fligshts['ARRIVAL_DELAY'].astype('int')\n",
    "fligshts['DEPARTURE_DELAY'] = fligshts['DEPARTURE_DELAY'].astype('int')"
   ]
  },
  {
   "cell_type": "code",
   "execution_count": null,
   "metadata": {},
   "outputs": [],
   "source": [
    "#здесь формирую колонку PROBABILITY - если самолет опоздал, то значение 0\n",
    "# из опоздания прилета вычитаю задержку на вылете, что бы исключить вину в этой задержке принимающего аэропорта\n",
    "#прилетел раньше или в срок - значение 1\n",
    "\n",
    "\n",
    "fligshts['DELAY'] = fligshts['ARRIVAL_DELAY'] - fligshts['DEPARTURE_DELAY']\n",
    "fligshts['PROBABILITY'] = np.where(fligshts['DELAY']>0, 0, 1)"
   ]
  },
  {
   "cell_type": "code",
   "execution_count": null,
   "metadata": {},
   "outputs": [],
   "source": [
    "fligshts.groupby('PROBABILITY').count()"
   ]
  },
  {
   "cell_type": "code",
   "execution_count": null,
   "metadata": {},
   "outputs": [],
   "source": [
    "DESTINATION_AIRPORT = list(fligshts.DESTINATION_AIRPORT.unique())"
   ]
  },
  {
   "cell_type": "code",
   "execution_count": null,
   "metadata": {},
   "outputs": [],
   "source": [
    "for airport in tqdm(DESTINATION_AIRPORT):\n",
    "    df = fligshts.query(f'DESTINATION_AIRPORT == \"{airport}\"') #датафрейм с конкретным аэропортом прилета\n",
    "    B = df.groupby('Date')['PROBABILITY'].mean().reset_index() #фрейм с датой и средним значением вероятности задержки в этот аэропорт по дням\n",
    "    B.columns = ['ds', 'y'] #привожу колонки к наименованию, которые необходимы для модели\n",
    "    m = NeuralProphet() #создаем экземпляр класса\n",
    "    metrics = m.fit(B, freq=\"D\") #обучаем модель\n",
    "    with open('{}'.format(airport)+'.pkl', 'wb') as f:\n",
    "            pickle.dump(metrics, f)\n",
    "\n",
    "#хочу оформить все в streamlit - нашел, как сделать пользовательский ввод, например пользователь вводит город вылета,\n",
    "#далее формируется список аэропортов в этом городе, выбирается аэропотр, например, дата вылета\n",
    "\n",
    "# выгружаю модели из соответствующей папки - в зависимости от выбранного аэропорта\n",
    "# делаю предсказание, отвечаю на вопрос задания и сопутствующую визуализацию строю    "
   ]
  },
  {
   "cell_type": "code",
   "execution_count": null,
   "metadata": {},
   "outputs": [],
   "source": []
  }
 ],
 "metadata": {
  "kernelspec": {
   "display_name": "Python 3.8.13 ('good')",
   "language": "python",
   "name": "python3"
  },
  "language_info": {
   "codemirror_mode": {
    "name": "ipython",
    "version": 3
   },
   "file_extension": ".py",
   "mimetype": "text/x-python",
   "name": "python",
   "nbconvert_exporter": "python",
   "pygments_lexer": "ipython3",
   "version": "3.8.13"
  },
  "orig_nbformat": 4,
  "vscode": {
   "interpreter": {
    "hash": "ba425474936e9dc2028e97735f828616b4dedc70c1423deb2d5fc47a4831c90d"
   }
  }
 },
 "nbformat": 4,
 "nbformat_minor": 2
}
