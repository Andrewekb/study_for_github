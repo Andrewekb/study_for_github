{
 "cells": [
  {
   "cell_type": "code",
   "execution_count": 1,
   "metadata": {},
   "outputs": [
    {
     "name": "stderr",
     "output_type": "stream",
     "text": [
      "/var/folders/m9/x7jxk9jx2g9ch4ngnwz3n8wh0000gn/T/ipykernel_59474/540131829.py:18: DtypeWarning: Columns (7,8) have mixed types. Specify dtype option on import or set low_memory=False.\n",
      "  flights = pd.read_csv('flights.csv')\n"
     ]
    }
   ],
   "source": [
    "import pandas as pd\n",
    "import numpy as np\n",
    "import plotly.express as px\n",
    "import seaborn as sns\n",
    "from sklearn.model_selection import train_test_split\n",
    "from sklearn.linear_model import LinearRegression\n",
    "from sklearn.preprocessing import LabelEncoder\n",
    "from sklearn.tree import DecisionTreeClassifier\n",
    "import matplotlib.pyplot as plt\n",
    "from sklearn.metrics import mean_squared_error\n",
    "from tqdm.auto import tqdm\n",
    "\n",
    "\n",
    "\n",
    "\n",
    "#загрузка данных\n",
    "airports = pd.read_csv('airports.csv')\n",
    "flights = pd.read_csv('flights.csv')\n",
    "airlines = pd.read_csv('airlines.csv')\n",
    "\n",
    "#добавляю колонку с датой, выбираю период(данные за октябрь теряются, другой формат наименования аэропортов)\n",
    "\n",
    "flights['HOUR'] = flights['SCHEDULED_DEPARTURE']//100\n",
    "flights['MINUTE'] = flights['SCHEDULED_DEPARTURE']%100\n",
    "flights['DATE_DAY'] = pd.to_datetime(flights[['YEAR', 'MONTH', 'DAY']])\n",
    "flights['DATE_TIME'] = pd.to_datetime(flights[['YEAR', 'MONTH', 'DAY', 'HOUR', 'MINUTE']])\n",
    "flights['DATE_HOUR'] = pd.to_datetime(flights[['YEAR', 'MONTH', 'DAY', 'HOUR']])\n",
    "\n",
    "flights['PROBABILITY'] = np.where(flights['DEPARTURE_DELAY']>0, 0, 1)\n",
    "flights['ONLY_DEPARTURE'] = flights['DEPARTURE_DELAY'] - flights['ARRIVAL_DELAY']\n",
    "\n",
    "\n",
    "\n",
    "flights = flights.loc[flights['DATE_DAY'].between('2015-01-01', '2015-09-30')]\n",
    "\n",
    "B = flights.groupby(['ORIGIN_AIRPORT', 'DATE_HOUR'])['DATE_DAY'].count().reset_index().rename(columns={'DATE_DAY': 'COUNT_HOUR'})\n",
    "flights = flights.merge(B, how='left', left_on=['ORIGIN_AIRPORT', 'DATE_HOUR'], right_on = ['ORIGIN_AIRPORT', 'DATE_HOUR'])\n",
    "B = flights.groupby(['ORIGIN_AIRPORT', 'DATE_DAY'])['DATE_HOUR'].count().reset_index().rename(columns={'DATE_HOUR': 'COUNT_DAY'})\n",
    "flights = flights.merge(B, how='left', left_on=['ORIGIN_AIRPORT', 'DATE_DAY'], right_on = ['ORIGIN_AIRPORT', 'DATE_DAY'])\n",
    "\n",
    "\n"
   ]
  },
  {
   "cell_type": "code",
   "execution_count": null,
   "metadata": {},
   "outputs": [],
   "source": [
    "A = pd.DataFrame(flights.isna().sum())\n",
    "A.plot(kind='bar', subplots=True, figsize=[16, 9], legend=None)\n"
   ]
  },
  {
   "cell_type": "code",
   "execution_count": null,
   "metadata": {},
   "outputs": [],
   "source": [
    "A.rename(columns={0:'HBHB'})"
   ]
  },
  {
   "cell_type": "code",
   "execution_count": null,
   "metadata": {},
   "outputs": [],
   "source": [
    "colormap = plt.cm.viridis\n",
    "plt.figure(figsize=(30,30))\n",
    "plt.title('Попарная корреляция', y=1.05, size=20)\n",
    "sns.heatmap(flights.corr(), square=True, annot=True, cmap=colormap)\n",
    "plt.show()"
   ]
  },
  {
   "cell_type": "code",
   "execution_count": null,
   "metadata": {},
   "outputs": [],
   "source": [
    "flights.columns"
   ]
  },
  {
   "cell_type": "code",
   "execution_count": 79,
   "metadata": {},
   "outputs": [],
   "source": [
    "C = flights[['MONTH', 'DAY_OF_WEEK', 'AIRLINE','SCHEDULED_TIME',\n",
    "       'ORIGIN_AIRPORT', 'DESTINATION_AIRPORT',\n",
    "       'SCHEDULED_DEPARTURE', 'DISTANCE',\n",
    "       'ARRIVAL_DELAY', 'HOUR', 'MINUTE',\n",
    "       'DATE_HOUR', 'PROBABILITY', 'COUNT_HOUR', 'COUNT_DAY']]"
   ]
  },
  {
   "cell_type": "code",
   "execution_count": 80,
   "metadata": {},
   "outputs": [],
   "source": [
    "C = C.query(\"ORIGIN_AIRPORT == 'HNL'\")"
   ]
  },
  {
   "cell_type": "code",
   "execution_count": null,
   "metadata": {},
   "outputs": [],
   "source": [
    "A = pd.DataFrame(C.isna().sum())\n",
    "A.plot(kind='bar', subplots=True, figsize=[16, 9], legend='1', title='gvcsvdg')\n"
   ]
  },
  {
   "cell_type": "code",
   "execution_count": 81,
   "metadata": {},
   "outputs": [],
   "source": [
    "C.dropna(inplace=True)"
   ]
  },
  {
   "cell_type": "code",
   "execution_count": 82,
   "metadata": {},
   "outputs": [],
   "source": [
    "a_list = []\n",
    "le = LabelEncoder()\n",
    "for column in C.columns:\n",
    "    if C.dtypes['{}'.format(column)] == 'object':\n",
    "        a_list.append(column)\n",
    "        #le = LabelEncoder()\n",
    "        C['{}'.format(column)] = le.fit_transform(C['{}'.format(column)])\n",
    "        \n"
   ]
  },
  {
   "cell_type": "code",
   "execution_count": 46,
   "metadata": {},
   "outputs": [
    {
     "name": "stdout",
     "output_type": "stream",
     "text": [
      "<class 'pandas.core.frame.DataFrame'>\n",
      "DatetimeIndex: 0 entries\n",
      "Data columns (total 13 columns):\n",
      " #   Column               Non-Null Count  Dtype  \n",
      "---  ------               --------------  -----  \n",
      " 0   MONTH                0 non-null      int64  \n",
      " 1   DAY_OF_WEEK          0 non-null      int64  \n",
      " 2   AIRLINE              0 non-null      int64  \n",
      " 3   SCHEDULED_TIME       0 non-null      float64\n",
      " 4   ORIGIN_AIRPORT       0 non-null      int64  \n",
      " 5   DESTINATION_AIRPORT  0 non-null      int64  \n",
      " 6   SCHEDULED_DEPARTURE  0 non-null      int64  \n",
      " 7   DISTANCE             0 non-null      int64  \n",
      " 8   HOUR                 0 non-null      int64  \n",
      " 9   MINUTE               0 non-null      int64  \n",
      " 10  PROBABILITY          0 non-null      int64  \n",
      " 11  COUNT_HOUR           0 non-null      int64  \n",
      " 12  COUNT_DAY            0 non-null      int64  \n",
      "dtypes: float64(1), int64(12)\n",
      "memory usage: 0.0 bytes\n"
     ]
    }
   ],
   "source": [
    "C.info()"
   ]
  },
  {
   "cell_type": "code",
   "execution_count": null,
   "metadata": {},
   "outputs": [],
   "source": [
    "colormap = plt.cm.viridis\n",
    "plt.figure(figsize=(30,20))\n",
    "plt.title('Попарная корреляция', y=1.05, size=20)\n",
    "sns.heatmap(C.corr(), square=True, annot=True, cmap=colormap)\n",
    "plt.show()"
   ]
  },
  {
   "cell_type": "code",
   "execution_count": 83,
   "metadata": {},
   "outputs": [],
   "source": [
    "C.set_index('DATE_HOUR', inplace=True)"
   ]
  },
  {
   "cell_type": "code",
   "execution_count": 84,
   "metadata": {},
   "outputs": [],
   "source": [
    "#удаляю выбросы - 1,5 межквантильных размаха из колонки с задержкой прилета\n",
    "Q1 = C['ARRIVAL_DELAY'].quantile(0.25)\n",
    "Q3 = C['ARRIVAL_DELAY'].quantile(0.75)\n",
    "IQR = Q3 - Q1\n",
    "a = C[(C['ARRIVAL_DELAY'] < Q1-1.5*IQR ) | (C['ARRIVAL_DELAY'] > Q3+1.5*IQR)]['ARRIVAL_DELAY'].reset_index()\n",
    "    \n",
    "#список с исключениями\n",
    "a = list(a.ARRIVAL_DELAY)\n",
    "#исключаю выбросы\n",
    "C = C.query(\"ARRIVAL_DELAY != @a\")"
   ]
  },
  {
   "cell_type": "code",
   "execution_count": 85,
   "metadata": {},
   "outputs": [],
   "source": [
    "C.drop(['PROBABILITY'], axis=1, inplace=True)"
   ]
  },
  {
   "cell_type": "code",
   "execution_count": 86,
   "metadata": {},
   "outputs": [],
   "source": [
    "#формирую выборки - обучающую и тестовую\n",
    "X_train,X_test, y_train, y_test = train_test_split(C.drop('ARRIVAL_DELAY',axis=1),\n",
    "                                                        C.ARRIVAL_DELAY,\n",
    "                                                        shuffle = False,# временной ряд, отключаем перемешивание\n",
    "                                                        test_size = 0.25)"
   ]
  },
  {
   "cell_type": "code",
   "execution_count": 89,
   "metadata": {},
   "outputs": [
    {
     "name": "stdout",
     "output_type": "stream",
     "text": [
      "Ошибка на обучающей выборке 10.044713880054443\n",
      "Ошибка на тесте 11.460360747129144\n"
     ]
    }
   ],
   "source": [
    "dtc = DecisionTreeClassifier(max_depth=10)\n",
    "#sc = StandardScaler()\n",
    "dtc.fit(X_train, y_train)\n",
    "print('Ошибка на обучающей выборке', (mean_squared_error(y_train, dtc.predict(X_train)))**0.5)\n",
    "pred = dtc.predict(X_test)\n",
    "print('Ошибка на тесте', (mean_squared_error(y_test, pred))**0.5)"
   ]
  },
  {
   "cell_type": "code",
   "execution_count": 87,
   "metadata": {},
   "outputs": [],
   "source": [
    "max_depth_range = list(range(1, 20))# List to store the average RMSE for each value of max_depth:\n",
    "accuracy = []\n",
    "for depth in max_depth_range:\n",
    "    \n",
    "    clf = DecisionTreeClassifier(max_depth = depth, \n",
    "                             random_state = False)\n",
    "    clf.fit(X_train, y_train)    \n",
    "    score = clf.score(X_test, y_test)\n",
    "    accuracy.append(score)"
   ]
  },
  {
   "cell_type": "code",
   "execution_count": 94,
   "metadata": {},
   "outputs": [
    {
     "data": {
      "text/plain": [
       "[0.05299772324816595,\n",
       " 0.05514798886921326,\n",
       " 0.05540096129521882,\n",
       " 0.05198583354414369,\n",
       " 0.04932962307108525,\n",
       " 0.05223880597014925,\n",
       " 0.05110043005312421,\n",
       " 0.05400961295218821,\n",
       " 0.052365292183152036,\n",
       " 0.05135340247912978,\n",
       " 0.05008854034910195,\n",
       " 0.05198583354414369,\n",
       " 0.04642044017202125,\n",
       " 0.04869719200607134,\n",
       " 0.04376422969896281,\n",
       " 0.04452314697697951,\n",
       " 0.04667341259802681,\n",
       " 0.044649633189982295,\n",
       " 0.045155578041993424]"
      ]
     },
     "execution_count": 94,
     "metadata": {},
     "output_type": "execute_result"
    }
   ],
   "source": [
    "accuracy"
   ]
  },
  {
   "cell_type": "code",
   "execution_count": 90,
   "metadata": {},
   "outputs": [],
   "source": [
    "O = pd.DataFrame(accuracy)"
   ]
  },
  {
   "cell_type": "code",
   "execution_count": 95,
   "metadata": {},
   "outputs": [
    {
     "data": {
      "text/plain": [
       "<AxesSubplot:>"
      ]
     },
     "execution_count": 95,
     "metadata": {},
     "output_type": "execute_result"
    },
    {
     "data": {
      "image/png": "[encoded data removed]",
      "text/plain": [
       "<Figure size 640x480 with 1 Axes>"
      ]
     },
     "metadata": {},
     "output_type": "display_data"
    }
   ],
   "source": [
    "O.plot()"
   ]
  },
  {
   "cell_type": "code",
   "execution_count": null,
   "metadata": {},
   "outputs": [],
   "source": [
    "from sklearn import tree\n",
    "text_representation = tree.export_text(dtc)\n",
    "print(text_representation)"
   ]
  },
  {
   "cell_type": "code",
   "execution_count": null,
   "metadata": {},
   "outputs": [],
   "source": [
    "y_test = y_test.reset_index()\n",
    "y_test['PRED'] = list(pred)\n",
    "y_test = y_test.set_index('DATE_HOUR')\n",
    "X_test['ARRIVAL_DELAY'] = y_test['ARRIVAL_DELAY']\n",
    "X_test['PRED'] = y_test['PRED']\n"
   ]
  },
  {
   "cell_type": "code",
   "execution_count": null,
   "metadata": {},
   "outputs": [],
   "source": [
    "X_test['ARRIVAL_DELAY'].mean()"
   ]
  },
  {
   "cell_type": "code",
   "execution_count": null,
   "metadata": {},
   "outputs": [],
   "source": [
    "X_test['PRED'].mean()"
   ]
  },
  {
   "cell_type": "code",
   "execution_count": null,
   "metadata": {},
   "outputs": [],
   "source": [
    "for column in a_list:\n",
    "        X_test['{}'.format(column)] = le.inverse_transform(X_test['{}'.format(column)])\n",
    "X_test['PROBABILITY'] = np.where(X_test['ARRIVAL_DELAY']>0, 0, 1)\n",
    "X_test['PROBABILITY_PRED'] = np.where(X_test['PRED']>0, 0, 1)\n"
   ]
  },
  {
   "cell_type": "code",
   "execution_count": null,
   "metadata": {},
   "outputs": [],
   "source": [
    "X_test1 = X_test.reset_index()#.loc[X_test.reset_index()['DATE_HOUR'].between('2015-09-30 00:00:00', '2015-09-30 23:00:00')]\n"
   ]
  },
  {
   "cell_type": "code",
   "execution_count": null,
   "metadata": {},
   "outputs": [],
   "source": [
    "start_airport = np.random.choice(flights['ORIGIN_AIRPORT'].unique()) \n",
    "X_test1['MSE'] = (X_test1['PRED'] - X_test1['ARRIVAL_DELAY'])**2\n"
   ]
  },
  {
   "cell_type": "code",
   "execution_count": null,
   "metadata": {},
   "outputs": [],
   "source": [
    "X_test1 = X_test1.query(\"ORIGIN_AIRPORT == '{}'\".format(start_airport))"
   ]
  },
  {
   "cell_type": "code",
   "execution_count": null,
   "metadata": {},
   "outputs": [],
   "source": [
    "X_test1.groupby('DESTINATION_AIRPORT').mean().sort_values('MSE', ascending=True)"
   ]
  },
  {
   "cell_type": "code",
   "execution_count": null,
   "metadata": {},
   "outputs": [],
   "source": [
    "A = flights.groupby('DATE_DAY')['HOUR'].count().reset_index().rename(columns={'HOUR':'Количество_вылетов'})\n",
    "A['Количество_вылетов'] = A['Количество_вылетов']/A['Количество_вылетов'].max()"
   ]
  },
  {
   "cell_type": "code",
   "execution_count": null,
   "metadata": {},
   "outputs": [],
   "source": [
    "B = flights.groupby('DATE_DAY')['PROBABILITY'].mean().reset_index().rename(columns={'PROBABILITY':'Средняя_вероятность'})"
   ]
  },
  {
   "cell_type": "code",
   "execution_count": null,
   "metadata": {},
   "outputs": [],
   "source": [
    "A = A.merge(B, how='left', left_on='DATE_DAY', right_on='DATE_DAY')"
   ]
  },
  {
   "cell_type": "code",
   "execution_count": null,
   "metadata": {},
   "outputs": [],
   "source": [
    "A.set_index('DATE_DAY').plot(figsize=[16,9])"
   ]
  },
  {
   "cell_type": "code",
   "execution_count": null,
   "metadata": {},
   "outputs": [],
   "source": [
    "fig = px.box(flights['ARRIVAL_DELAY'])\n",
    "fig.show()"
   ]
  },
  {
   "cell_type": "code",
   "execution_count": null,
   "metadata": {},
   "outputs": [],
   "source": [
    "fig = px.box(C['ARRIVAL_DELAY'])\n",
    "fig.show()"
   ]
  },
  {
   "cell_type": "code",
   "execution_count": null,
   "metadata": {},
   "outputs": [],
   "source": [
    "C"
   ]
  },
  {
   "cell_type": "code",
   "execution_count": null,
   "metadata": {},
   "outputs": [],
   "source": [
    "\n",
    "print (C['ARRIVAL_DELAY']. cov (C['AIRLINE']))\n"
   ]
  },
  {
   "cell_type": "code",
   "execution_count": null,
   "metadata": {},
   "outputs": [],
   "source": [
    "colormap = plt.cm.viridis\n",
    "plt.figure(figsize=(30,20))\n",
    "plt.title('Попарная корреляция', y=1.05, size=20)\n",
    "sns.heatmap(skalre_df.cov(), square=True, annot=True, cmap=colormap)\n",
    "plt.show()\n"
   ]
  },
  {
   "cell_type": "code",
   "execution_count": null,
   "metadata": {},
   "outputs": [],
   "source": [
    "from sklearn.preprocessing import MinMaxScaler\n"
   ]
  },
  {
   "cell_type": "code",
   "execution_count": null,
   "metadata": {},
   "outputs": [],
   "source": [
    "scaler = MinMaxScaler(feature_range=(0, 1))\n",
    "rescaledX = scaler.fit_transform(C)\n",
    "col = C.columns\n",
    "skalre_df = pd.DataFrame(rescaledX, columns=col )\n",
    "\n",
    "\n"
   ]
  },
  {
   "cell_type": "code",
   "execution_count": null,
   "metadata": {},
   "outputs": [],
   "source": [
    "skalre_df"
   ]
  },
  {
   "cell_type": "code",
   "execution_count": null,
   "metadata": {},
   "outputs": [],
   "source": [
    "#функция для генерации колонок\n",
    "def make_features(data, max_lag, rolling_mean_size):\n",
    "    data['year'] = data.DATE_DAY.dt.year\n",
    "    data['month'] = data.DATE_DAY.dt.month\n",
    "    data['day'] = data.DATE_DAY.dt.day\n",
    "    data['dayofweek'] = data.DATE_DAY.dt.dayofweek\n",
    "    for lag in range(1, max_lag + 1):\n",
    "        data['lag_{}'.format(lag)] = data['ARRIVAL_DELAY'].shift(lag)\n",
    "    data['y_mean'] = data['ARRIVAL_DELAY'].shift().rolling(rolling_mean_size).mean().copy()\n",
    "\n",
    "#функция для рассчета вероятности\n",
    "def get_probability(y_test):\n",
    "    y_test = y_test.reset_index()\n",
    "    y_test['probability'] = np.where(y_test['ARRIVAL_DELAY']>0, 0, 1)\n",
    "    return round(y_test['probability'].mean()*100, 2)"
   ]
  },
  {
   "cell_type": "code",
   "execution_count": null,
   "metadata": {},
   "outputs": [],
   "source": [
    "\n",
    "#выбор случайного наименования аэропорта\n",
    "\n",
    "#формируем фрейм со случайно выбранным аэропортом вылета\n",
    "df = flights.query(\"ORIGIN_AIRPORT == '{}'\".format(start_airport))\n",
    "\n",
    "#будующий фрейм данных, содержит наименование аэропорта прилета, метрику, вероятность, число перелетов в тестовом аборе данных\n",
    "total = pd.DataFrame(columns=['name', 'RMSE', 'ARRIVAL_DELAY'])\n",
    "\n",
    "#перебор аэропортов прилета\n",
    "for d_airport in df['DESTINATION_AIRPORT'].unique():\n",
    "    d_df = df.query(\"DESTINATION_AIRPORT == '{}'\".format(d_airport))\n",
    "    \n",
    "    \n",
    "    #удаляю выбросы - 1,5 межквантильных размаха из колонки с задержкой прилета\n",
    "    Q1 = d_df['ARRIVAL_DELAY'].quantile(0.25)\n",
    "    Q3 = d_df['ARRIVAL_DELAY'].quantile(0.75)\n",
    "    IQR = Q3 - Q1\n",
    "    a = d_df[(d_df['ARRIVAL_DELAY'] < Q1-1.5*IQR ) | (d_df['ARRIVAL_DELAY'] > Q3+1.5*IQR)]['ARRIVAL_DELAY'].reset_index()\n",
    "    \n",
    "    #список с исключениями\n",
    "    a = list(a.ARRIVAL_DELAY)\n",
    "    #исключаю выбросы\n",
    "    d_df = d_df.query(\"ARRIVAL_DELAY != @a\")\n",
    "    d = d_df.DATE_DAY.max()\n",
    "    d_df.loc[(d_df.DATE_DAY == d),'ARRIVAL_DELAY']=0\n",
    "\n",
    "\n",
    "    try:   \n",
    "\n",
    "        #генерируем показатели\n",
    "        d_df = d_df.groupby('DATE_DAY')['ARRIVAL_DELAY'].mean().reset_index()\n",
    "        make_features(d_df,21,7)\n",
    "        d_df.dropna(inplace=True)\n",
    "        d_df.set_index('DATE_DAY', inplace=True)\n",
    "\n",
    "\n",
    "\n",
    "        #формирую выборки - обучающую и тестовую\n",
    "        X_train,X_test, y_train, y_test = train_test_split(d_df.drop('ARRIVAL_DELAY',axis=1),\n",
    "                                                        d_df.ARRIVAL_DELAY,\n",
    "                                                        shuffle = False,# временной ряд, отключаем перемешивание\n",
    "                                                        test_size = 0.25)\n",
    "\n",
    "        #обучаю и делаю предсказание\n",
    "        lr = LinearRegression()\n",
    "        lr.fit(X_train, y_train)\n",
    "        pred = lr.predict(X_test)\n",
    "\n",
    "        #формирую словарь, далее будем накапливать данные в df total\n",
    "        t = {'name':'{}'.format(d_airport), 'RMSE':round(np.sqrt(mean_squared_error(y_test, pred)), 2), \n",
    "        'ARRIVAL_DELAY':round(pred[-1], 2)}\n",
    "        total = total.append(t, ignore_index=True)\n",
    "\n",
    "    except Exception as e:\n",
    "        continue\n",
    "\n",
    "\n",
    "\n",
    "#добавляю и аэропорт вылета(нужен для дальнейшего постоения графика, данные в словаре формируют большой желтый point на карте - аэропорт вылета)\n",
    "t = {'name':'{}'.format(start_airport), 'RMSE':total.RMSE.mean()*2, 'ARRIVAL_DELAY':0}\n",
    "#сортируем данные по метрике и вероятности положительного исхода прилета\n",
    "total = total.sort_values(by=['RMSE','ARRIVAL_DELAY'],ascending=[True, True])\n",
    "total = total.head(3)\n",
    "total = total.append(t, ignore_index=True)\n",
    "\n",
    "\n",
    "map_air = airports.merge(total, how='right', left_on='IATA_CODE', right_on='name')\n",
    "\n",
    "print(total.set_index('name')[:-1])\n",
    "\n",
    "\n",
    "fig = px.scatter_mapbox(total,\n",
    "                        lon = map_air.LONGITUDE,\n",
    "                        lat = map_air.LATITUDE,\n",
    "                        zoom = 3,\n",
    "                        color = map_air.RMSE,\n",
    "                        size = map_air.RMSE,\n",
    "                        width = 800,\n",
    "                        height = 600,\n",
    ")\n",
    "fig.update_layout(mapbox_style='open-street-map')\n",
    "fig.show()\n"
   ]
  },
  {
   "cell_type": "code",
   "execution_count": null,
   "metadata": {},
   "outputs": [],
   "source": [
    "flights.groupby('AIRLINE')['DATE_HOUR'].count().plot(kind='bar')"
   ]
  },
  {
   "cell_type": "code",
   "execution_count": null,
   "metadata": {},
   "outputs": [],
   "source": [
    "#plt.axis('off')\n",
    "\n",
    "A = flights.groupby('ORIGIN_AIRPORT')['DATE_HOUR'].count()\n",
    "A.plot(kind='bar', title='gvcsvdg', figsize=[16, 9], legend=True, xlabel='bdsvu')\n"
   ]
  },
  {
   "cell_type": "code",
   "execution_count": null,
   "metadata": {},
   "outputs": [],
   "source": [
    "A = A.reset_index()"
   ]
  },
  {
   "cell_type": "code",
   "execution_count": null,
   "metadata": {},
   "outputs": [],
   "source": [
    "A.ORIGIN_AIRPORT.nunique()"
   ]
  },
  {
   "cell_type": "code",
   "execution_count": null,
   "metadata": {},
   "outputs": [],
   "source": [
    "plt.hist(x=A.DATE_HOUR)"
   ]
  },
  {
   "cell_type": "code",
   "execution_count": null,
   "metadata": {},
   "outputs": [],
   "source": [
    "a = flights.groupby('ORIGIN_AIRPORT')['DATE_HOUR'].count().sort_values(ascending=False).reset_index()\n",
    "b = airports.merge(a, how='right', left_on='IATA_CODE', right_on='ORIGIN_AIRPORT')"
   ]
  },
  {
   "cell_type": "code",
   "execution_count": null,
   "metadata": {},
   "outputs": [],
   "source": [
    "fig = px.scatter_mapbox(b,\n",
    "                        lon = b.LONGITUDE,\n",
    "                        lat = b.LATITUDE,\n",
    "                        zoom = 3,\n",
    "                        color = b.DATE_HOUR,\n",
    "                        size = b.DATE_HOUR,\n",
    "                        hover_name=\"IATA_CODE\",\n",
    "                        width = 800,\n",
    "                        height = 600,\n",
    ")\n",
    "fig.update_layout(mapbox_style='open-street-map')\n",
    "fig.show()"
   ]
  },
  {
   "cell_type": "code",
   "execution_count": null,
   "metadata": {},
   "outputs": [],
   "source": [
    "airports.IATA_CODE.unique()"
   ]
  },
  {
   "cell_type": "code",
   "execution_count": null,
   "metadata": {},
   "outputs": [],
   "source": [
    "flights"
   ]
  },
  {
   "cell_type": "code",
   "execution_count": null,
   "metadata": {},
   "outputs": [],
   "source": [
    "airports.query(\"IATA_CODE == 'ATL'\")"
   ]
  },
  {
   "cell_type": "code",
   "execution_count": null,
   "metadata": {},
   "outputs": [],
   "source": [
    "ATL = flights.query(\"ORIGIN_AIRPORT == 'ATL'\")"
   ]
  },
  {
   "cell_type": "code",
   "execution_count": null,
   "metadata": {},
   "outputs": [],
   "source": [
    "weather = pd.read_csv('Atlanta.csv')"
   ]
  },
  {
   "cell_type": "code",
   "execution_count": null,
   "metadata": {},
   "outputs": [],
   "source": [
    "weather = weather[['precipMM', 'tempC', 'visibility', 'windspeedKmph', 'date_time']]\n",
    "weather['date_time'] = pd.to_datetime(weather['date_time'])"
   ]
  },
  {
   "cell_type": "code",
   "execution_count": null,
   "metadata": {},
   "outputs": [],
   "source": [
    "ATL = ATL.merge(weather, how='left', left_on='DATE_HOUR', right_on='date_time')"
   ]
  },
  {
   "cell_type": "code",
   "execution_count": null,
   "metadata": {},
   "outputs": [],
   "source": [
    "ATL.drop('date_time', inplace=True, axis=1)"
   ]
  },
  {
   "cell_type": "code",
   "execution_count": null,
   "metadata": {},
   "outputs": [],
   "source": []
  },
  {
   "cell_type": "code",
   "execution_count": null,
   "metadata": {},
   "outputs": [],
   "source": [
    "ATL.dropna(inplace=True)"
   ]
  },
  {
   "cell_type": "code",
   "execution_count": null,
   "metadata": {},
   "outputs": [],
   "source": [
    "ATL.isna().sum()"
   ]
  },
  {
   "cell_type": "code",
   "execution_count": null,
   "metadata": {},
   "outputs": [],
   "source": [
    "ATL"
   ]
  },
  {
   "cell_type": "code",
   "execution_count": null,
   "metadata": {},
   "outputs": [],
   "source": [
    "colormap = plt.cm.viridis\n",
    "plt.figure(figsize=(30,30))\n",
    "plt.title('Попарная корреляция', y=1.05, size=20)\n",
    "sns.heatmap(ATL.corr(), square=True, annot=True, cmap=colormap)\n",
    "plt.show()"
   ]
  },
  {
   "cell_type": "code",
   "execution_count": 97,
   "metadata": {},
   "outputs": [
    {
     "data": {
      "text/plain": [
       "array(['ABE', 'ABI', 'ABQ', 'ABR', 'ABY', 'ACK', 'ACT', 'ACV', 'ACY',\n",
       "       'ADK', 'ADQ', 'AEX', 'AGS', 'AKN', 'ALB', 'ALO', 'AMA', 'ANC',\n",
       "       'APN', 'ASE', 'ATL', 'ATW', 'AUS', 'AVL', 'AVP', 'AZO', 'BDL',\n",
       "       'BET', 'BFL', 'BGM', 'BGR', 'BHM', 'BIL', 'BIS', 'BJI', 'BLI',\n",
       "       'BMI', 'BNA', 'BOI', 'BOS', 'BPT', 'BQK', 'BQN', 'BRD', 'BRO',\n",
       "       'BRW', 'BTM', 'BTR', 'BTV', 'BUF', 'BUR', 'BWI', 'BZN', 'CAE',\n",
       "       'CAK', 'CDC', 'CDV', 'CEC', 'CHA', 'CHO', 'CHS', 'CID', 'CIU',\n",
       "       'CLD', 'CLE', 'CLL', 'CLT', 'CMH', 'CMI', 'CMX', 'CNY', 'COD',\n",
       "       'COS', 'COU', 'CPR', 'CRP', 'CRW', 'CSG', 'CVG', 'CWA', 'DAB',\n",
       "       'DAL', 'DAY', 'DBQ', 'DCA', 'DEN', 'DFW', 'DHN', 'DIK', 'DLG',\n",
       "       'DLH', 'DRO', 'DSM', 'DTW', 'DVL', 'EAU', 'ECP', 'EGE', 'EKO',\n",
       "       'ELM', 'ELP', 'ERI', 'ESC', 'EUG', 'EVV', 'EWN', 'EWR', 'EYW',\n",
       "       'FAI', 'FAR', 'FAT', 'FAY', 'FCA', 'FLG', 'FLL', 'FNT', 'FSD',\n",
       "       'FSM', 'FWA', 'GCC', 'GCK', 'GEG', 'GFK', 'GGG', 'GJT', 'GNV',\n",
       "       'GPT', 'GRB', 'GRI', 'GRK', 'GRR', 'GSO', 'GSP', 'GST', 'GTF',\n",
       "       'GTR', 'GUC', 'GUM', 'HDN', 'HIB', 'HLN', 'HNL', 'HOB', 'HOU',\n",
       "       'HPN', 'HRL', 'HSV', 'HYA', 'HYS', 'IAD', 'IAG', 'IAH', 'ICT',\n",
       "       'IDA', 'ILG', 'ILM', 'IMT', 'IND', 'INL', 'ISN', 'ISP', 'ITH',\n",
       "       'ITO', 'JAC', 'JAN', 'JAX', 'JFK', 'JLN', 'JMS', 'JNU', 'KOA',\n",
       "       'KTN', 'LAN', 'LAR', 'LAS', 'LAW', 'LAX', 'LBB', 'LBE', 'LCH',\n",
       "       'LEX', 'LFT', 'LGA', 'LGB', 'LIH', 'LIT', 'LNK', 'LRD', 'LSE',\n",
       "       'LWS', 'MAF', 'MBS', 'MCI', 'MCO', 'MDT', 'MDW', 'MEI', 'MEM',\n",
       "       'MFE', 'MFR', 'MGM', 'MHK', 'MHT', 'MIA', 'MKE', 'MKG', 'MLB',\n",
       "       'MLI', 'MLU', 'MMH', 'MOB', 'MOT', 'MQT', 'MRY', 'MSN', 'MSO',\n",
       "       'MSP', 'MSY', 'MTJ', 'MVY', 'MYR', 'OAJ', 'OAK', 'OGG', 'OKC',\n",
       "       'OMA', 'OME', 'ONT', 'ORD', 'ORF', 'ORH', 'OTH', 'OTZ', 'PAH',\n",
       "       'PBG', 'PBI', 'PDX', 'PHF', 'PHL', 'PHX', 'PIA', 'PIB', 'PIH',\n",
       "       'PIT', 'PLN', 'PNS', 'PPG', 'PSC', 'PSE', 'PSG', 'PSP', 'PUB',\n",
       "       'PVD', 'PWM', 'RAP', 'RDD', 'RDM', 'RDU', 'RHI', 'RIC', 'RKS',\n",
       "       'RNO', 'ROA', 'ROC', 'ROW', 'RST', 'RSW', 'SAF', 'SAN', 'SAT',\n",
       "       'SAV', 'SBA', 'SBN', 'SBP', 'SCC', 'SCE', 'SDF', 'SEA', 'SFO',\n",
       "       'SGF', 'SGU', 'SHV', 'SIT', 'SJC', 'SJT', 'SJU', 'SLC', 'SMF',\n",
       "       'SMX', 'SNA', 'SPI', 'SPS', 'SRQ', 'STC', 'STL', 'STT', 'STX',\n",
       "       'SUN', 'SUX', 'SWF', 'SYR', 'TLH', 'TOL', 'TPA', 'TRI', 'TTN',\n",
       "       'TUL', 'TUS', 'TVC', 'TWF', 'TXK', 'TYR', 'TYS', 'UST', 'VEL',\n",
       "       'VLD', 'VPS', 'WRG', 'WYS', 'XNA', 'YAK', 'YUM'], dtype=object)"
      ]
     },
     "execution_count": 97,
     "metadata": {},
     "output_type": "execute_result"
    }
   ],
   "source": [
    "airports.IATA_CODE.unique()"
   ]
  }
 ],
 "metadata": {
  "kernelspec": {
   "display_name": "Python 3 (ipykernel)",
   "language": "python",
   "name": "python3"
  },
  "language_info": {
   "codemirror_mode": {
    "name": "ipython",
    "version": 3
   },
   "file_extension": ".py",
   "mimetype": "text/x-python",
   "name": "python",
   "nbconvert_exporter": "python",
   "pygments_lexer": "ipython3",
   "version": "3.9.13"
  },
  "vscode": {
   "interpreter": {
    "hash": "f9b21516205f1e5ca30714da32a8b764c04a24e7a5e8d37531908049fcea1ddd"
   }
  }
 },
 "nbformat": 4,
 "nbformat_minor": 2
}
