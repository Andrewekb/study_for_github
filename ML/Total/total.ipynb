{
 "cells": [
  {
   "cell_type": "code",
   "execution_count": 1,
   "metadata": {},
   "outputs": [],
   "source": [
    "# для примера использую библиотеку neuralprophet\n",
    "import pandas as pd\n",
    "import numpy as np\n",
    "from neuralprophet import NeuralProphet\n",
    "import os\n",
    "import pickle"
   ]
  },
  {
   "cell_type": "code",
   "execution_count": 12,
   "metadata": {},
   "outputs": [
    {
     "name": "stderr",
     "output_type": "stream",
     "text": [
      "WARNING - (py.warnings._showwarnmsg) - /var/folders/m9/x7jxk9jx2g9ch4ngnwz3n8wh0000gn/T/ipykernel_93379/4155919845.py:2: DtypeWarning: Columns (7,8) have mixed types. Specify dtype option on import or set low_memory=False.\n",
      "  fligshts = pd.read_csv('flights.csv')\n",
      "\n"
     ]
    }
   ],
   "source": [
    "airports = pd.read_csv('airports.csv')\n",
    "fligshts = pd.read_csv('flights.csv')"
   ]
  },
  {
   "cell_type": "code",
   "execution_count": 13,
   "metadata": {},
   "outputs": [],
   "source": [
    "#объединяю данные, что бы в данных было найменование аэропорта и код аэропорта\n",
    "#датасет с цифровой расшифровкой аэропортов не нашел, здесь так же удаляю эти данные\n",
    "\n",
    "fligshts = fligshts.merge(airports, how='right', left_on='ORIGIN_AIRPORT', right_on='IATA_CODE')"
   ]
  },
  {
   "cell_type": "code",
   "execution_count": 14,
   "metadata": {},
   "outputs": [],
   "source": [
    "#добавляю колонку с датой в формате datetime64\n",
    "\n",
    "fligshts['Date'] = fligshts[['YEAR','MONTH','DAY']].astype('str').agg('-'. join , axis= 1)\n",
    "fligshts['Date'] = pd.to_datetime(fligshts['Date']).dt.date.astype('datetime64[ns]')\n",
    "\n",
    "#удаляю колонки с датой, месяцем, годом\n",
    "\n",
    "fligshts.drop(['YEAR', 'DAY', 'MONTH'], axis=1, inplace=True)\n"
   ]
  },
  {
   "cell_type": "code",
   "execution_count": 15,
   "metadata": {},
   "outputs": [
    {
     "data": {
      "text/html": [
       "<div>\n",
       "<style scoped>\n",
       "    .dataframe tbody tr th:only-of-type {\n",
       "        vertical-align: middle;\n",
       "    }\n",
       "\n",
       "    .dataframe tbody tr th {\n",
       "        vertical-align: top;\n",
       "    }\n",
       "\n",
       "    .dataframe thead th {\n",
       "        text-align: right;\n",
       "    }\n",
       "</style>\n",
       "<table border=\"1\" class=\"dataframe\">\n",
       "  <thead>\n",
       "    <tr style=\"text-align: right;\">\n",
       "      <th></th>\n",
       "      <th>DAY_OF_WEEK</th>\n",
       "      <th>AIRLINE</th>\n",
       "      <th>FLIGHT_NUMBER</th>\n",
       "      <th>TAIL_NUMBER</th>\n",
       "      <th>ORIGIN_AIRPORT</th>\n",
       "      <th>DESTINATION_AIRPORT</th>\n",
       "      <th>SCHEDULED_DEPARTURE</th>\n",
       "      <th>DEPARTURE_TIME</th>\n",
       "      <th>DEPARTURE_DELAY</th>\n",
       "      <th>TAXI_OUT</th>\n",
       "      <th>...</th>\n",
       "      <th>LATE_AIRCRAFT_DELAY</th>\n",
       "      <th>WEATHER_DELAY</th>\n",
       "      <th>IATA_CODE</th>\n",
       "      <th>AIRPORT</th>\n",
       "      <th>CITY</th>\n",
       "      <th>STATE</th>\n",
       "      <th>COUNTRY</th>\n",
       "      <th>LATITUDE</th>\n",
       "      <th>LONGITUDE</th>\n",
       "      <th>Date</th>\n",
       "    </tr>\n",
       "  </thead>\n",
       "  <tbody>\n",
       "    <tr>\n",
       "      <th>0</th>\n",
       "      <td>4</td>\n",
       "      <td>EV</td>\n",
       "      <td>5103</td>\n",
       "      <td>N846AS</td>\n",
       "      <td>ABE</td>\n",
       "      <td>DTW</td>\n",
       "      <td>600</td>\n",
       "      <td>552.0</td>\n",
       "      <td>-8.0</td>\n",
       "      <td>12.0</td>\n",
       "      <td>...</td>\n",
       "      <td>NaN</td>\n",
       "      <td>NaN</td>\n",
       "      <td>ABE</td>\n",
       "      <td>Lehigh Valley International Airport</td>\n",
       "      <td>Allentown</td>\n",
       "      <td>PA</td>\n",
       "      <td>USA</td>\n",
       "      <td>40.65236</td>\n",
       "      <td>-75.4404</td>\n",
       "      <td>2015-01-01</td>\n",
       "    </tr>\n",
       "    <tr>\n",
       "      <th>1</th>\n",
       "      <td>4</td>\n",
       "      <td>EV</td>\n",
       "      <td>5579</td>\n",
       "      <td>N136EV</td>\n",
       "      <td>ABE</td>\n",
       "      <td>ATL</td>\n",
       "      <td>635</td>\n",
       "      <td>628.0</td>\n",
       "      <td>-7.0</td>\n",
       "      <td>13.0</td>\n",
       "      <td>...</td>\n",
       "      <td>NaN</td>\n",
       "      <td>NaN</td>\n",
       "      <td>ABE</td>\n",
       "      <td>Lehigh Valley International Airport</td>\n",
       "      <td>Allentown</td>\n",
       "      <td>PA</td>\n",
       "      <td>USA</td>\n",
       "      <td>40.65236</td>\n",
       "      <td>-75.4404</td>\n",
       "      <td>2015-01-01</td>\n",
       "    </tr>\n",
       "  </tbody>\n",
       "</table>\n",
       "<p>2 rows × 36 columns</p>\n",
       "</div>"
      ],
      "text/plain": [
       "   DAY_OF_WEEK AIRLINE  FLIGHT_NUMBER TAIL_NUMBER ORIGIN_AIRPORT  \\\n",
       "0            4      EV           5103      N846AS            ABE   \n",
       "1            4      EV           5579      N136EV            ABE   \n",
       "\n",
       "  DESTINATION_AIRPORT  SCHEDULED_DEPARTURE  DEPARTURE_TIME  DEPARTURE_DELAY  \\\n",
       "0                 DTW                  600           552.0             -8.0   \n",
       "1                 ATL                  635           628.0             -7.0   \n",
       "\n",
       "   TAXI_OUT  ...  LATE_AIRCRAFT_DELAY  WEATHER_DELAY  IATA_CODE  \\\n",
       "0      12.0  ...                  NaN            NaN        ABE   \n",
       "1      13.0  ...                  NaN            NaN        ABE   \n",
       "\n",
       "                               AIRPORT       CITY  STATE  COUNTRY  LATITUDE  \\\n",
       "0  Lehigh Valley International Airport  Allentown     PA      USA  40.65236   \n",
       "1  Lehigh Valley International Airport  Allentown     PA      USA  40.65236   \n",
       "\n",
       "   LONGITUDE       Date  \n",
       "0   -75.4404 2015-01-01  \n",
       "1   -75.4404 2015-01-01  \n",
       "\n",
       "[2 rows x 36 columns]"
      ]
     },
     "execution_count": 15,
     "metadata": {},
     "output_type": "execute_result"
    }
   ],
   "source": [
    "fligshts.head(2)"
   ]
  },
  {
   "cell_type": "code",
   "execution_count": 16,
   "metadata": {},
   "outputs": [],
   "source": [
    "fligshts = fligshts[['Date', 'ORIGIN_AIRPORT', 'DEPARTURE_DELAY', 'DESTINATION_AIRPORT', 'ARRIVAL_DELAY']].reset_index()\n",
    "fligshts.dropna(inplace=True)"
   ]
  },
  {
   "cell_type": "code",
   "execution_count": 17,
   "metadata": {},
   "outputs": [],
   "source": [
    "fligshts['ARRIVAL_DELAY'] = fligshts['ARRIVAL_DELAY'].astype('int')\n",
    "fligshts['DEPARTURE_DELAY'] = fligshts['DEPARTURE_DELAY'].astype('int')\n"
   ]
  },
  {
   "cell_type": "code",
   "execution_count": 18,
   "metadata": {},
   "outputs": [],
   "source": [
    "#здесь формирую колонку PROBABILITY - если самолет опоздал, то значение 0\n",
    "# из опоздания прилета вычитаю задержку на вылете, что бы исключить вину в этой задержке принимающего аэропорта\n",
    "#прилетел раньше или в срок - значение 1\n",
    "\n",
    "\n",
    "fligshts['DELAY'] = fligshts['ARRIVAL_DELAY'] - fligshts['DEPARTURE_DELAY']\n",
    "fligshts['PROBABILITY'] = np.where(fligshts['DELAY']>0, 0, 1)\n"
   ]
  },
  {
   "cell_type": "code",
   "execution_count": 19,
   "metadata": {},
   "outputs": [
    {
     "name": "stdout",
     "output_type": "stream",
     "text": [
      "<class 'pandas.core.frame.DataFrame'>\n",
      "Int64Index: 5231130 entries, 0 to 5332913\n",
      "Data columns (total 8 columns):\n",
      " #   Column               Dtype         \n",
      "---  ------               -----         \n",
      " 0   index                int64         \n",
      " 1   Date                 datetime64[ns]\n",
      " 2   ORIGIN_AIRPORT       object        \n",
      " 3   DEPARTURE_DELAY      int64         \n",
      " 4   DESTINATION_AIRPORT  object        \n",
      " 5   ARRIVAL_DELAY        int64         \n",
      " 6   DELAY                int64         \n",
      " 7   PROBABILITY          int64         \n",
      "dtypes: datetime64[ns](1), int64(5), object(2)\n",
      "memory usage: 359.2+ MB\n"
     ]
    }
   ],
   "source": [
    "fligshts.info()"
   ]
  },
  {
   "cell_type": "code",
   "execution_count": null,
   "metadata": {},
   "outputs": [],
   "source": [
    "# получаю список аэропортов вылета\n",
    "\n",
    "ORIGIN_AIRPORT = list(fligshts.ORIGIN_AIRPORT.unique())\n",
    "ORIGIN_AIRPORT"
   ]
  },
  {
   "cell_type": "code",
   "execution_count": null,
   "metadata": {},
   "outputs": [],
   "source": [
    "# создаем каталоги\n",
    "for airport in ORIGIN_AIRPORT:\n",
    "    os.mkdir(\"{}\".format(airport))"
   ]
  },
  {
   "cell_type": "code",
   "execution_count": null,
   "metadata": {},
   "outputs": [],
   "source": [
    "# и далее идея следующая - для каждого аэропорта вылета в цикле перебрать аэропорты прилета\n",
    "\n",
    "for airport in ORIGIN_AIRPORT:\n",
    "    df = fligshts.query(f'ORIGIN_AIRPORT == \"{airport}\"') #датафрейм с конкретным аэропортом прилета\n",
    "    DESTINATION_AIRPORT = list(df.DESTINATION_AIRPORT.unique()) #список аэропортов прилета для конкретного аэропорта вылета\n",
    "    for d_airport in DESTINATION_AIRPORT:\n",
    "        A = df.query(f'DESTINATION_AIRPORT == \"{d_airport}\"') #фрейм с конкретным аэропортом прилета\n",
    "        B = A.groupby('Date')['PROBABILITY'].mean().reset_index() #фрейм с датой и средним значением вероятности задержки в этот аэропорт по дням\n",
    "        B.columns = ['ds', 'y'] #привожу колонки к наименованию, которые необходимы для модели\n",
    "        m = NeuralProphet() #создаем экземпляр класса\n",
    "        metrics = m.fit(B, freq=\"D\") #обучаем модель\n",
    "        with open('{}'.format(airport)+'/'+'{}'.format(d_airport)+'.pkl', 'wb') as f:\n",
    "            pickle.dump(metrics, f)\n",
    "\n",
    "\n",
    "\n",
    "#хочу оформить все в streamlit - нашел, как сделать пользовательский ввод, например пользователь вводит город вылета,\n",
    "#далее формируется список аэропортов в этом городе, выбирается аэропотр, например, дата вылета\n",
    "\n",
    "# выгружаю модели из соответствующей папки - в зависимости от выбранного аэропорта\n",
    "# делаю предсказание, отвечаю на вопрос задания и сопутствующую визуализацию строю    "
   ]
  },
  {
   "cell_type": "code",
   "execution_count": null,
   "metadata": {},
   "outputs": [],
   "source": [
    "pred = m.make_future_dataframe(B, periods=2)\n",
    "forecast = m.predict(pred)"
   ]
  }
 ],
 "metadata": {
  "kernelspec": {
   "display_name": "Python 3.8.13 ('good')",
   "language": "python",
   "name": "python3"
  },
  "language_info": {
   "codemirror_mode": {
    "name": "ipython",
    "version": 3
   },
   "file_extension": ".py",
   "mimetype": "text/x-python",
   "name": "python",
   "nbconvert_exporter": "python",
   "pygments_lexer": "ipython3",
   "version": "3.8.13"
  },
  "orig_nbformat": 4,
  "vscode": {
   "interpreter": {
    "hash": "ba425474936e9dc2028e97735f828616b4dedc70c1423deb2d5fc47a4831c90d"
   }
  }
 },
 "nbformat": 4,
 "nbformat_minor": 2
}
