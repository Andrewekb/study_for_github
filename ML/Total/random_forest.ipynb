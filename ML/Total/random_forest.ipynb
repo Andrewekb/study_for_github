{
 "cells": [
  {
   "cell_type": "code",
   "execution_count": 112,
   "metadata": {},
   "outputs": [
    {
     "name": "stderr",
     "output_type": "stream",
     "text": [
      "/var/folders/m9/x7jxk9jx2g9ch4ngnwz3n8wh0000gn/T/ipykernel_42857/3857342807.py:17: DtypeWarning: Columns (7,8) have mixed types. Specify dtype option on import or set low_memory=False.\n",
      "  flights = pd.read_csv('flights.csv')\n"
     ]
    }
   ],
   "source": [
    "import pandas as pd\n",
    "import numpy as np\n",
    "import datetime\n",
    "import plotly.express as px\n",
    "import seaborn as sns\n",
    "import matplotlib.pyplot as plt\n",
    "from sklearn.model_selection import train_test_split\n",
    "from sklearn.linear_model import LinearRegression\n",
    "from sklearn.metrics import mean_squared_error\n",
    "from sklearn.ensemble import RandomForestRegressor\n",
    "from sklearn.preprocessing import LabelEncoder\n",
    "from sklearn.preprocessing import StandardScaler\n",
    "\n",
    "\n",
    "\n",
    "airports = pd.read_csv('airports.csv')\n",
    "flights = pd.read_csv('flights.csv')"
   ]
  },
  {
   "cell_type": "code",
   "execution_count": 113,
   "metadata": {},
   "outputs": [],
   "source": [
    "flights = flights.merge(airports, how='right', left_on='ORIGIN_AIRPORT', right_on='IATA_CODE')"
   ]
  },
  {
   "cell_type": "markdown",
   "metadata": {},
   "source": [
    "добавляю колонки час и минуты и формирую соответствующую колонку DATE\n",
    "выбираю период по 30 сентября\n",
    "не нашел коды аэропортов, в октябре они цифрами прописаны, поэтому теряю месяц (октябрь)"
   ]
  },
  {
   "cell_type": "code",
   "execution_count": 114,
   "metadata": {},
   "outputs": [],
   "source": [
    "flights['HOUR'] = flights['SCHEDULED_DEPARTURE']//100\n",
    "flights['MINUTE'] = flights['SCHEDULED_DEPARTURE']%100\n",
    "flights['DATE'] = pd.to_datetime(flights[['YEAR', 'MONTH', 'DAY', 'HOUR', 'MINUTE']])\n",
    "flights = flights.loc[flights['DATE'].between('2015-01-01', '2015-09-30')]\n"
   ]
  },
  {
   "cell_type": "markdown",
   "metadata": {},
   "source": [
    "формирую колонку C_TIME с количеством рейсов в d каждый момент DATE"
   ]
  },
  {
   "cell_type": "code",
   "execution_count": 115,
   "metadata": {},
   "outputs": [],
   "source": [
    "c_time = flights.groupby('DATE').count().reset_index()\n",
    "c_time['C_TIME'] = c_time['MONTH']\n",
    "c_time = c_time[['DATE', 'C_TIME']]\n",
    "flights = flights.merge(c_time, how='left', left_on='DATE', right_on='DATE')"
   ]
  },
  {
   "cell_type": "markdown",
   "metadata": {},
   "source": [
    "теперь выбираю данные для обучения, все они не содержат времени, связанного с задержкой"
   ]
  },
  {
   "cell_type": "code",
   "execution_count": 116,
   "metadata": {},
   "outputs": [],
   "source": [
    "my_flight = flights[['DAY_OF_WEEK', 'HOUR', 'MINUTE',\n",
    "       'ORIGIN_AIRPORT', 'DESTINATION_AIRPORT', 'SCHEDULED_TIME',\n",
    "       'DATE', 'ARRIVAL_DELAY',\n",
    "       'C_TIME', 'AIRLINE', 'FLIGHT_NUMBER', 'DISTANCE', 'TAIL_NUMBER' ]]"
   ]
  },
  {
   "cell_type": "markdown",
   "metadata": {},
   "source": [
    "небольшой пример"
   ]
  },
  {
   "cell_type": "code",
   "execution_count": 117,
   "metadata": {},
   "outputs": [],
   "source": [
    "ATL = my_flight.query(\"ORIGIN_AIRPORT == 'MEM'\")\n",
    "ATL_IAD = ATL.query(\"DESTINATION_AIRPORT =='CVG'\")"
   ]
  },
  {
   "cell_type": "code",
   "execution_count": 118,
   "metadata": {},
   "outputs": [
    {
     "name": "stderr",
     "output_type": "stream",
     "text": [
      "/var/folders/m9/x7jxk9jx2g9ch4ngnwz3n8wh0000gn/T/ipykernel_42857/1282734093.py:2: SettingWithCopyWarning: \n",
      "A value is trying to be set on a copy of a slice from a DataFrame\n",
      "\n",
      "See the caveats in the documentation: https://pandas.pydata.org/pandas-docs/stable/user_guide/indexing.html#returning-a-view-versus-a-copy\n",
      "  ATL_IAD.drop(['ORIGIN_AIRPORT', 'DESTINATION_AIRPORT'], axis=1, inplace=True)\n"
     ]
    }
   ],
   "source": [
    "ATL_IAD.set_index('DATE', inplace=True)\n",
    "ATL_IAD.drop(['ORIGIN_AIRPORT', 'DESTINATION_AIRPORT'], axis=1, inplace=True)"
   ]
  },
  {
   "cell_type": "code",
   "execution_count": 119,
   "metadata": {},
   "outputs": [
    {
     "name": "stderr",
     "output_type": "stream",
     "text": [
      "/var/folders/m9/x7jxk9jx2g9ch4ngnwz3n8wh0000gn/T/ipykernel_42857/1462679028.py:2: SettingWithCopyWarning: \n",
      "A value is trying to be set on a copy of a slice from a DataFrame.\n",
      "Try using .loc[row_indexer,col_indexer] = value instead\n",
      "\n",
      "See the caveats in the documentation: https://pandas.pydata.org/pandas-docs/stable/user_guide/indexing.html#returning-a-view-versus-a-copy\n",
      "  ATL_IAD.AIRLINE = le.fit_transform(ATL_IAD['AIRLINE'])\n",
      "/var/folders/m9/x7jxk9jx2g9ch4ngnwz3n8wh0000gn/T/ipykernel_42857/1462679028.py:3: SettingWithCopyWarning: \n",
      "A value is trying to be set on a copy of a slice from a DataFrame.\n",
      "Try using .loc[row_indexer,col_indexer] = value instead\n",
      "\n",
      "See the caveats in the documentation: https://pandas.pydata.org/pandas-docs/stable/user_guide/indexing.html#returning-a-view-versus-a-copy\n",
      "  ATL_IAD.TAIL_NUMBER = le.fit_transform(ATL_IAD['TAIL_NUMBER'])\n",
      "/var/folders/m9/x7jxk9jx2g9ch4ngnwz3n8wh0000gn/T/ipykernel_42857/1462679028.py:5: SettingWithCopyWarning: \n",
      "A value is trying to be set on a copy of a slice from a DataFrame\n",
      "\n",
      "See the caveats in the documentation: https://pandas.pydata.org/pandas-docs/stable/user_guide/indexing.html#returning-a-view-versus-a-copy\n",
      "  ATL_IAD.dropna(inplace=True)\n"
     ]
    }
   ],
   "source": [
    "le = LabelEncoder()\n",
    "ATL_IAD.AIRLINE = le.fit_transform(ATL_IAD['AIRLINE'])\n",
    "ATL_IAD.TAIL_NUMBER = le.fit_transform(ATL_IAD['TAIL_NUMBER'])\n",
    "\n",
    "ATL_IAD.dropna(inplace=True)"
   ]
  },
  {
   "cell_type": "code",
   "execution_count": 120,
   "metadata": {},
   "outputs": [],
   "source": [
    "X_train,X_test, y_train, y_test = train_test_split(ATL_IAD.drop('ARRIVAL_DELAY',axis=1),\n",
    "                                                  ATL_IAD.ARRIVAL_DELAY,\n",
    "                                                  shuffle = False,\n",
    "                                                  test_size = 0.25)"
   ]
  },
  {
   "cell_type": "markdown",
   "metadata": {},
   "source": [
    "Ошибка не такая значительная, как в примере baseline"
   ]
  },
  {
   "cell_type": "code",
   "execution_count": 121,
   "metadata": {},
   "outputs": [
    {
     "name": "stdout",
     "output_type": "stream",
     "text": [
      "Ошибка на обучающей выборке 31.41573069700264\n",
      "Ошибка на тесте 60.05882379790696\n"
     ]
    }
   ],
   "source": [
    "lr = LinearRegression()\n",
    "#sc = StandardScaler()\n",
    "lr.fit(X_train, y_train)\n",
    "print('Ошибка на обучающей выборке', (mean_squared_error(y_train, lr.predict(X_train)))**0.5)\n",
    "pred = lr.predict(X_test)\n",
    "print('Ошибка на тесте', (mean_squared_error(y_test, pred))**0.5)"
   ]
  },
  {
   "cell_type": "code",
   "execution_count": 122,
   "metadata": {},
   "outputs": [
    {
     "name": "stdout",
     "output_type": "stream",
     "text": [
      "Ошибка на обучающей выборке 17.53323374949087\n",
      "Ошибка на тесте 54.1085852707313\n"
     ]
    }
   ],
   "source": [
    "rf = RandomForestRegressor(n_estimators=10, random_state=0)\n",
    "rf.fit(X_train, y_train)\n",
    "print('Ошибка на обучающей выборке', (mean_squared_error(y_train, rf.predict(X_train)))**0.5)\n",
    "pred = rf.predict(X_test)\n",
    "print('Ошибка на тесте', (mean_squared_error(y_test, pred))**0.5)"
   ]
  }
 ],
 "metadata": {
  "kernelspec": {
   "display_name": "total_project",
   "language": "python",
   "name": "python3"
  },
  "language_info": {
   "codemirror_mode": {
    "name": "ipython",
    "version": 3
   },
   "file_extension": ".py",
   "mimetype": "text/x-python",
   "name": "python",
   "nbconvert_exporter": "python",
   "pygments_lexer": "ipython3",
   "version": "3.9.13"
  },
  "orig_nbformat": 4,
  "vscode": {
   "interpreter": {
    "hash": "f9b21516205f1e5ca30714da32a8b764c04a24e7a5e8d37531908049fcea1ddd"
   }
  }
 },
 "nbformat": 4,
 "nbformat_minor": 2
}
