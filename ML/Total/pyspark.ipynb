{
 "cells": [
  {
   "cell_type": "code",
   "execution_count": 6,
   "metadata": {},
   "outputs": [],
   "source": [
    "import pyspark.pandas as ps\n",
    "from pyspark.sql import SparkSession\n",
    "from pyspark import SparkContext\n",
    "from pyspark.sql.functions import concat_ws, to_date, desc\n",
    "\n",
    "\n",
    "import os\n",
    "os.environ[\"PYARROW_IGNORE_TIMEZONE\"] = \"1\""
   ]
  },
  {
   "cell_type": "code",
   "execution_count": 8,
   "metadata": {},
   "outputs": [],
   "source": [
    "spark = (SparkSession.builder\n",
    ".master(\"local[*]\")\n",
    ".appName('Flight_delay')\n",
    ".getOrCreate()\n",
    ")"
   ]
  },
  {
   "cell_type": "code",
   "execution_count": 9,
   "metadata": {},
   "outputs": [],
   "source": [
    "df = spark.read.csv('flights.csv',     \n",
    "                    sep=',',\n",
    "                    header=True)"
   ]
  },
  {
   "cell_type": "code",
   "execution_count": 10,
   "metadata": {},
   "outputs": [
    {
     "name": "stdout",
     "output_type": "stream",
     "text": [
      "root\n",
      " |-- YEAR: string (nullable = true)\n",
      " |-- MONTH: string (nullable = true)\n",
      " |-- DAY: string (nullable = true)\n",
      " |-- DAY_OF_WEEK: string (nullable = true)\n",
      " |-- AIRLINE: string (nullable = true)\n",
      " |-- FLIGHT_NUMBER: string (nullable = true)\n",
      " |-- TAIL_NUMBER: string (nullable = true)\n",
      " |-- ORIGIN_AIRPORT: string (nullable = true)\n",
      " |-- DESTINATION_AIRPORT: string (nullable = true)\n",
      " |-- SCHEDULED_DEPARTURE: string (nullable = true)\n",
      " |-- DEPARTURE_TIME: string (nullable = true)\n",
      " |-- DEPARTURE_DELAY: string (nullable = true)\n",
      " |-- TAXI_OUT: string (nullable = true)\n",
      " |-- WHEELS_OFF: string (nullable = true)\n",
      " |-- SCHEDULED_TIME: string (nullable = true)\n",
      " |-- ELAPSED_TIME: string (nullable = true)\n",
      " |-- AIR_TIME: string (nullable = true)\n",
      " |-- DISTANCE: string (nullable = true)\n",
      " |-- WHEELS_ON: string (nullable = true)\n",
      " |-- TAXI_IN: string (nullable = true)\n",
      " |-- SCHEDULED_ARRIVAL: string (nullable = true)\n",
      " |-- ARRIVAL_TIME: string (nullable = true)\n",
      " |-- ARRIVAL_DELAY: string (nullable = true)\n",
      " |-- DIVERTED: string (nullable = true)\n",
      " |-- CANCELLED: string (nullable = true)\n",
      " |-- CANCELLATION_REASON: string (nullable = true)\n",
      " |-- AIR_SYSTEM_DELAY: string (nullable = true)\n",
      " |-- SECURITY_DELAY: string (nullable = true)\n",
      " |-- AIRLINE_DELAY: string (nullable = true)\n",
      " |-- LATE_AIRCRAFT_DELAY: string (nullable = true)\n",
      " |-- WEATHER_DELAY: string (nullable = true)\n",
      "\n"
     ]
    }
   ],
   "source": [
    "df.printSchema()"
   ]
  },
  {
   "cell_type": "code",
   "execution_count": 11,
   "metadata": {},
   "outputs": [
    {
     "name": "stderr",
     "output_type": "stream",
     "text": [
      "                                                                                \r"
     ]
    },
    {
     "data": {
      "text/plain": [
       "5819079"
      ]
     },
     "execution_count": 11,
     "metadata": {},
     "output_type": "execute_result"
    }
   ],
   "source": [
    "df.count()"
   ]
  },
  {
   "cell_type": "code",
   "execution_count": 12,
   "metadata": {},
   "outputs": [],
   "source": [
    "df = df.withColumn('DATE', concat_ws(\"-\", \"YEAR\", \"MONTH\", 'DAY')).withColumn('DATE', to_date('DATE'))\n"
   ]
  },
  {
   "cell_type": "code",
   "execution_count": 13,
   "metadata": {},
   "outputs": [],
   "source": [
    "df = df.withColumn('TAXI_OUT', df['TAXI_OUT'].cast('float'))"
   ]
  },
  {
   "cell_type": "code",
   "execution_count": 14,
   "metadata": {},
   "outputs": [
    {
     "name": "stdout",
     "output_type": "stream",
     "text": [
      "root\n",
      " |-- YEAR: string (nullable = true)\n",
      " |-- MONTH: string (nullable = true)\n",
      " |-- DAY: string (nullable = true)\n",
      " |-- DAY_OF_WEEK: string (nullable = true)\n",
      " |-- AIRLINE: string (nullable = true)\n",
      " |-- FLIGHT_NUMBER: string (nullable = true)\n",
      " |-- TAIL_NUMBER: string (nullable = true)\n",
      " |-- ORIGIN_AIRPORT: string (nullable = true)\n",
      " |-- DESTINATION_AIRPORT: string (nullable = true)\n",
      " |-- SCHEDULED_DEPARTURE: string (nullable = true)\n",
      " |-- DEPARTURE_TIME: string (nullable = true)\n",
      " |-- DEPARTURE_DELAY: string (nullable = true)\n",
      " |-- TAXI_OUT: float (nullable = true)\n",
      " |-- WHEELS_OFF: string (nullable = true)\n",
      " |-- SCHEDULED_TIME: string (nullable = true)\n",
      " |-- ELAPSED_TIME: string (nullable = true)\n",
      " |-- AIR_TIME: string (nullable = true)\n",
      " |-- DISTANCE: string (nullable = true)\n",
      " |-- WHEELS_ON: string (nullable = true)\n",
      " |-- TAXI_IN: string (nullable = true)\n",
      " |-- SCHEDULED_ARRIVAL: string (nullable = true)\n",
      " |-- ARRIVAL_TIME: string (nullable = true)\n",
      " |-- ARRIVAL_DELAY: string (nullable = true)\n",
      " |-- DIVERTED: string (nullable = true)\n",
      " |-- CANCELLED: string (nullable = true)\n",
      " |-- CANCELLATION_REASON: string (nullable = true)\n",
      " |-- AIR_SYSTEM_DELAY: string (nullable = true)\n",
      " |-- SECURITY_DELAY: string (nullable = true)\n",
      " |-- AIRLINE_DELAY: string (nullable = true)\n",
      " |-- LATE_AIRCRAFT_DELAY: string (nullable = true)\n",
      " |-- WEATHER_DELAY: string (nullable = true)\n",
      " |-- DATE: date (nullable = true)\n",
      "\n"
     ]
    }
   ],
   "source": [
    "df.printSchema()"
   ]
  },
  {
   "cell_type": "code",
   "execution_count": 15,
   "metadata": {},
   "outputs": [
    {
     "name": "stdout",
     "output_type": "stream",
     "text": [
      "22/12/04 16:12:19 WARN package: Truncated the string representation of a plan since it was too large. This behavior can be adjusted by setting 'spark.sql.debug.maxToStringFields'.\n"
     ]
    }
   ],
   "source": [
    "df.createOrReplaceTempView(\"insurance_df\")\n",
    "df2 = spark.sql('''\n",
    "    SELECT * FROM(\n",
    "    SELECT ORIGIN_AIRPORT as o, \n",
    "    sum(TAXI_OUT) as sum_out,\n",
    "    count(TAXI_OUT) as count_out  \n",
    "    FROM insurance_df \n",
    "    WHERE DATE BETWEEN '2015-01-01' AND '2015-09-30'\n",
    "    GROUP BY ORIGIN_AIRPORT) AS OA\n",
    "    INNER JOIN\n",
    "    (SELECT\n",
    "    DESTINATION_AIRPORT as d,\n",
    "    sum(TAXI_IN) as sum_in, \n",
    "    count(TAXI_IN) as count_in\n",
    "    FROM insurance_df \n",
    "    GROUP BY DESTINATION_AIRPORT)\n",
    "    ON\n",
    "    o=d\n",
    "''')"
   ]
  },
  {
   "cell_type": "code",
   "execution_count": 16,
   "metadata": {},
   "outputs": [
    {
     "name": "stderr",
     "output_type": "stream",
     "text": [
      "                                                                                \r"
     ]
    },
    {
     "name": "stdout",
     "output_type": "stream",
     "text": [
      "+---+---------+---------+---+---------+--------+------------------+\n",
      "|  o|  sum_out|count_out|  d|   sum_in|count_in|              PROB|\n",
      "+---+---------+---------+---+---------+--------+------------------+\n",
      "|JFK|2086383.0|    76002|JFK| 802635.0|   91811|12.885682277296754|\n",
      "|LGA|2167189.0|    79591|LGA| 844765.0|   94918|12.874866052753726|\n",
      "|PHL|1186655.0|    53110|PHL| 434263.0|   64836| 10.51129330371526|\n",
      "|ISN|  43228.0|     2116|ISN|  14463.0|    2513| 9.795636206524087|\n",
      "|BOS|1764813.0|    86750|BOS| 742615.0|  105185| 9.646823143251622|\n",
      "|EWR|1637769.0|    80024|EWR| 958485.0|   98454| 9.624676430708547|\n",
      "|MMH|   2424.0|      130|MMH|    592.0|     140| 9.459259259259259|\n",
      "|STC|   1376.0|       78|STC|    327.0|      77| 9.380645161290323|\n",
      "|ORD|4475823.0|   227410|ORD|3653600.0|  276527| 9.332978130202783|\n",
      "|CLT|1587373.0|    80868|CLT| 952931.0|   98971| 9.276302692964263|\n",
      "|CIU|   9346.0|      481|CIU|   2683.0|     597|  9.11595547309833|\n",
      "|BRD|   9193.0|      481|BRD|   3075.0|     583| 9.092105263157896|\n",
      "|DCA|1118843.0|    58992|DCA| 413953.0|   71789| 9.006162974744038|\n",
      "|COD|  10460.0|      588|COD|   2843.0|     649| 8.931285367825383|\n",
      "|COS| 103994.0|     5588|COS|  44707.0|    6762| 8.873036437246963|\n",
      "|DTW|1607260.0|    87959|DTW| 834898.0|  107060| 8.692583799527226|\n",
      "|ACK|   7976.0|      486|ACK|   2817.0|     488|  8.68788501026694|\n",
      "|MIA|1025315.0|    56106|MIA| 629306.0|   68541| 8.675868653076288|\n",
      "|INL|   8456.0|      463|INL|   2542.0|     568|  8.65082444228904|\n",
      "|RHI|  13991.0|      770|RHI|   4798.0|     939| 8.637214745465185|\n",
      "+---+---------+---------+---+---------+--------+------------------+\n",
      "only showing top 20 rows\n",
      "\n"
     ]
    }
   ],
   "source": [
    "df2 = df2.withColumn('PROB', (df2.sum_out + df2.count_out)/(df2.count_out + df2.count_in))\n",
    "df2.sort(desc('PROB')).show()"
   ]
  }
 ],
 "metadata": {
  "kernelspec": {
   "display_name": "Python 3.9.13 ('total_project')",
   "language": "python",
   "name": "python3"
  },
  "language_info": {
   "codemirror_mode": {
    "name": "ipython",
    "version": 3
   },
   "file_extension": ".py",
   "mimetype": "text/x-python",
   "name": "python",
   "nbconvert_exporter": "python",
   "pygments_lexer": "ipython3",
   "version": "3.9.13 (main, Oct 13 2022, 16:12:30) \n[Clang 12.0.0 ]"
  },
  "orig_nbformat": 4,
  "vscode": {
   "interpreter": {
    "hash": "f9b21516205f1e5ca30714da32a8b764c04a24e7a5e8d37531908049fcea1ddd"
   }
  }
 },
 "nbformat": 4,
 "nbformat_minor": 2
}
