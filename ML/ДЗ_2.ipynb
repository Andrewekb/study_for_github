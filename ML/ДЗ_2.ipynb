{
 "cells": [
  {
   "cell_type": "code",
   "execution_count": 12,
   "metadata": {},
   "outputs": [],
   "source": [
    "import yfinance as yf\n",
    "import pandas as pd\n",
    "import datetime\n",
    "from prophet import Prophet"
   ]
  },
  {
   "cell_type": "markdown",
   "metadata": {},
   "source": [
    " Использую библиотеки yafinance для формирования выборки, что бы не вводить даты использую datetime today и delta 365 дней\n"
   ]
  },
  {
   "cell_type": "code",
   "execution_count": 13,
   "metadata": {},
   "outputs": [
    {
     "name": "stdout",
     "output_type": "stream",
     "text": [
      "[*********************100%***********************]  1 of 1 completed\n"
     ]
    }
   ],
   "source": [
    "end_365 = datetime.date.today() + datetime.timedelta(days=1)\n",
    "start_365 = end_365 - datetime.timedelta(days=365)\n",
    "\n",
    "data = yf.download(\"EURRUB=X\", start = start_365.isoformat(), end = end_365.isoformat())\n"
   ]
  },
  {
   "cell_type": "code",
   "execution_count": 14,
   "metadata": {},
   "outputs": [
    {
     "data": {
      "text/html": [
       "<div>\n",
       "<style scoped>\n",
       "    .dataframe tbody tr th:only-of-type {\n",
       "        vertical-align: middle;\n",
       "    }\n",
       "\n",
       "    .dataframe tbody tr th {\n",
       "        vertical-align: top;\n",
       "    }\n",
       "\n",
       "    .dataframe thead th {\n",
       "        text-align: right;\n",
       "    }\n",
       "</style>\n",
       "<table border=\"1\" class=\"dataframe\">\n",
       "  <thead>\n",
       "    <tr style=\"text-align: right;\">\n",
       "      <th></th>\n",
       "      <th>Open</th>\n",
       "      <th>High</th>\n",
       "      <th>Low</th>\n",
       "      <th>Close</th>\n",
       "      <th>Adj Close</th>\n",
       "      <th>Volume</th>\n",
       "    </tr>\n",
       "    <tr>\n",
       "      <th>Date</th>\n",
       "      <th></th>\n",
       "      <th></th>\n",
       "      <th></th>\n",
       "      <th></th>\n",
       "      <th></th>\n",
       "      <th></th>\n",
       "    </tr>\n",
       "  </thead>\n",
       "  <tbody>\n",
       "    <tr>\n",
       "      <th>2022-09-29 00:00:00+01:00</th>\n",
       "      <td>54.529202</td>\n",
       "      <td>55.341202</td>\n",
       "      <td>54.529202</td>\n",
       "      <td>54.529202</td>\n",
       "      <td>54.529202</td>\n",
       "      <td>0</td>\n",
       "    </tr>\n",
       "    <tr>\n",
       "      <th>2022-09-30 00:00:00+01:00</th>\n",
       "      <td>55.341202</td>\n",
       "      <td>56.449402</td>\n",
       "      <td>55.341202</td>\n",
       "      <td>55.341202</td>\n",
       "      <td>55.341202</td>\n",
       "      <td>0</td>\n",
       "    </tr>\n",
       "    <tr>\n",
       "      <th>2022-10-03 00:00:00+01:00</th>\n",
       "      <td>56.449402</td>\n",
       "      <td>56.627602</td>\n",
       "      <td>56.449402</td>\n",
       "      <td>56.449402</td>\n",
       "      <td>56.449402</td>\n",
       "      <td>0</td>\n",
       "    </tr>\n",
       "    <tr>\n",
       "      <th>2022-10-04 00:00:00+01:00</th>\n",
       "      <td>56.627602</td>\n",
       "      <td>57.857399</td>\n",
       "      <td>56.627602</td>\n",
       "      <td>56.627602</td>\n",
       "      <td>56.627602</td>\n",
       "      <td>0</td>\n",
       "    </tr>\n",
       "    <tr>\n",
       "      <th>2022-10-05 00:00:00+01:00</th>\n",
       "      <td>58.866199</td>\n",
       "      <td>60.153000</td>\n",
       "      <td>57.852798</td>\n",
       "      <td>59.931000</td>\n",
       "      <td>59.931000</td>\n",
       "      <td>0</td>\n",
       "    </tr>\n",
       "  </tbody>\n",
       "</table>\n",
       "</div>"
      ],
      "text/plain": [
       "                                Open       High        Low      Close  \\\n",
       "Date                                                                    \n",
       "2022-09-29 00:00:00+01:00  54.529202  55.341202  54.529202  54.529202   \n",
       "2022-09-30 00:00:00+01:00  55.341202  56.449402  55.341202  55.341202   \n",
       "2022-10-03 00:00:00+01:00  56.449402  56.627602  56.449402  56.449402   \n",
       "2022-10-04 00:00:00+01:00  56.627602  57.857399  56.627602  56.627602   \n",
       "2022-10-05 00:00:00+01:00  58.866199  60.153000  57.852798  59.931000   \n",
       "\n",
       "                           Adj Close  Volume  \n",
       "Date                                          \n",
       "2022-09-29 00:00:00+01:00  54.529202       0  \n",
       "2022-09-30 00:00:00+01:00  55.341202       0  \n",
       "2022-10-03 00:00:00+01:00  56.449402       0  \n",
       "2022-10-04 00:00:00+01:00  56.627602       0  \n",
       "2022-10-05 00:00:00+01:00  59.931000       0  "
      ]
     },
     "execution_count": 14,
     "metadata": {},
     "output_type": "execute_result"
    }
   ],
   "source": [
    "data.tail()"
   ]
  },
  {
   "cell_type": "markdown",
   "metadata": {},
   "source": [
    "Меняю индекс (пока индексом является дата)"
   ]
  },
  {
   "cell_type": "code",
   "execution_count": 15,
   "metadata": {},
   "outputs": [
    {
     "data": {
      "text/html": [
       "<div>\n",
       "<style scoped>\n",
       "    .dataframe tbody tr th:only-of-type {\n",
       "        vertical-align: middle;\n",
       "    }\n",
       "\n",
       "    .dataframe tbody tr th {\n",
       "        vertical-align: top;\n",
       "    }\n",
       "\n",
       "    .dataframe thead th {\n",
       "        text-align: right;\n",
       "    }\n",
       "</style>\n",
       "<table border=\"1\" class=\"dataframe\">\n",
       "  <thead>\n",
       "    <tr style=\"text-align: right;\">\n",
       "      <th></th>\n",
       "      <th>Date</th>\n",
       "      <th>Open</th>\n",
       "      <th>High</th>\n",
       "      <th>Low</th>\n",
       "      <th>Close</th>\n",
       "      <th>Adj Close</th>\n",
       "      <th>Volume</th>\n",
       "    </tr>\n",
       "  </thead>\n",
       "  <tbody>\n",
       "    <tr>\n",
       "      <th>0</th>\n",
       "      <td>2021-10-06 00:00:00+01:00</td>\n",
       "      <td>83.836098</td>\n",
       "      <td>84.013603</td>\n",
       "      <td>83.502998</td>\n",
       "      <td>83.860901</td>\n",
       "      <td>83.860901</td>\n",
       "      <td>0</td>\n",
       "    </tr>\n",
       "    <tr>\n",
       "      <th>1</th>\n",
       "      <td>2021-10-07 00:00:00+01:00</td>\n",
       "      <td>83.691101</td>\n",
       "      <td>83.752197</td>\n",
       "      <td>82.869400</td>\n",
       "      <td>83.687897</td>\n",
       "      <td>83.687897</td>\n",
       "      <td>0</td>\n",
       "    </tr>\n",
       "    <tr>\n",
       "      <th>2</th>\n",
       "      <td>2021-10-08 00:00:00+01:00</td>\n",
       "      <td>83.030998</td>\n",
       "      <td>83.308998</td>\n",
       "      <td>82.827499</td>\n",
       "      <td>83.010498</td>\n",
       "      <td>83.010498</td>\n",
       "      <td>0</td>\n",
       "    </tr>\n",
       "    <tr>\n",
       "      <th>3</th>\n",
       "      <td>2021-10-11 00:00:00+01:00</td>\n",
       "      <td>83.136703</td>\n",
       "      <td>83.212097</td>\n",
       "      <td>82.737000</td>\n",
       "      <td>82.993698</td>\n",
       "      <td>82.993698</td>\n",
       "      <td>0</td>\n",
       "    </tr>\n",
       "    <tr>\n",
       "      <th>4</th>\n",
       "      <td>2021-10-12 00:00:00+01:00</td>\n",
       "      <td>83.080299</td>\n",
       "      <td>83.156998</td>\n",
       "      <td>82.833199</td>\n",
       "      <td>83.065201</td>\n",
       "      <td>83.065201</td>\n",
       "      <td>0</td>\n",
       "    </tr>\n",
       "  </tbody>\n",
       "</table>\n",
       "</div>"
      ],
      "text/plain": [
       "                       Date       Open       High        Low      Close  \\\n",
       "0 2021-10-06 00:00:00+01:00  83.836098  84.013603  83.502998  83.860901   \n",
       "1 2021-10-07 00:00:00+01:00  83.691101  83.752197  82.869400  83.687897   \n",
       "2 2021-10-08 00:00:00+01:00  83.030998  83.308998  82.827499  83.010498   \n",
       "3 2021-10-11 00:00:00+01:00  83.136703  83.212097  82.737000  82.993698   \n",
       "4 2021-10-12 00:00:00+01:00  83.080299  83.156998  82.833199  83.065201   \n",
       "\n",
       "   Adj Close  Volume  \n",
       "0  83.860901       0  \n",
       "1  83.687897       0  \n",
       "2  83.010498       0  \n",
       "3  82.993698       0  \n",
       "4  83.065201       0  "
      ]
     },
     "execution_count": 15,
     "metadata": {},
     "output_type": "execute_result"
    }
   ],
   "source": [
    "data = data.reset_index()\n",
    "data.head()"
   ]
  },
  {
   "cell_type": "markdown",
   "metadata": {},
   "source": [
    "Пропуски отсутствуют, выходных дней так же нет в данных"
   ]
  },
  {
   "cell_type": "code",
   "execution_count": 16,
   "metadata": {},
   "outputs": [
    {
     "data": {
      "text/plain": [
       "Date         0\n",
       "Open         0\n",
       "High         0\n",
       "Low          0\n",
       "Close        0\n",
       "Adj Close    0\n",
       "Volume       0\n",
       "dtype: int64"
      ]
     },
     "execution_count": 16,
     "metadata": {},
     "output_type": "execute_result"
    }
   ],
   "source": [
    "data.isna().sum()"
   ]
  },
  {
   "cell_type": "markdown",
   "metadata": {},
   "source": [
    "Добавляю необходимые колонки для использования Prophet"
   ]
  },
  {
   "cell_type": "code",
   "execution_count": 17,
   "metadata": {},
   "outputs": [],
   "source": [
    "data['ds'] = pd.to_datetime(data['Date']).dt.date.astype('datetime64[ns]')\n",
    "data['y'] = (data.High + data.Low)/2"
   ]
  },
  {
   "cell_type": "markdown",
   "metadata": {},
   "source": [
    "Выбираю нужные колонки"
   ]
  },
  {
   "cell_type": "code",
   "execution_count": 18,
   "metadata": {},
   "outputs": [
    {
     "data": {
      "text/html": [
       "<div>\n",
       "<style scoped>\n",
       "    .dataframe tbody tr th:only-of-type {\n",
       "        vertical-align: middle;\n",
       "    }\n",
       "\n",
       "    .dataframe tbody tr th {\n",
       "        vertical-align: top;\n",
       "    }\n",
       "\n",
       "    .dataframe thead th {\n",
       "        text-align: right;\n",
       "    }\n",
       "</style>\n",
       "<table border=\"1\" class=\"dataframe\">\n",
       "  <thead>\n",
       "    <tr style=\"text-align: right;\">\n",
       "      <th></th>\n",
       "      <th>ds</th>\n",
       "      <th>y</th>\n",
       "    </tr>\n",
       "  </thead>\n",
       "  <tbody>\n",
       "    <tr>\n",
       "      <th>0</th>\n",
       "      <td>2021-10-06</td>\n",
       "      <td>83.758301</td>\n",
       "    </tr>\n",
       "    <tr>\n",
       "      <th>1</th>\n",
       "      <td>2021-10-07</td>\n",
       "      <td>83.310799</td>\n",
       "    </tr>\n",
       "    <tr>\n",
       "      <th>2</th>\n",
       "      <td>2021-10-08</td>\n",
       "      <td>83.068249</td>\n",
       "    </tr>\n",
       "    <tr>\n",
       "      <th>3</th>\n",
       "      <td>2021-10-11</td>\n",
       "      <td>82.974548</td>\n",
       "    </tr>\n",
       "    <tr>\n",
       "      <th>4</th>\n",
       "      <td>2021-10-12</td>\n",
       "      <td>82.995098</td>\n",
       "    </tr>\n",
       "  </tbody>\n",
       "</table>\n",
       "</div>"
      ],
      "text/plain": [
       "          ds          y\n",
       "0 2021-10-06  83.758301\n",
       "1 2021-10-07  83.310799\n",
       "2 2021-10-08  83.068249\n",
       "3 2021-10-11  82.974548\n",
       "4 2021-10-12  82.995098"
      ]
     },
     "execution_count": 18,
     "metadata": {},
     "output_type": "execute_result"
    }
   ],
   "source": [
    "df = data[['ds','y']]\n",
    "df.head()"
   ]
  },
  {
   "cell_type": "markdown",
   "metadata": {},
   "source": [
    "Создаю экземпляр класса Prophet\n",
    "Вызываю метод fit - обучается на текущих данных"
   ]
  },
  {
   "cell_type": "code",
   "execution_count": 19,
   "metadata": {},
   "outputs": [
    {
     "name": "stderr",
     "output_type": "stream",
     "text": [
      "INFO:prophet:Disabling yearly seasonality. Run prophet with yearly_seasonality=True to override this.\n",
      "INFO:prophet:Disabling daily seasonality. Run prophet with daily_seasonality=True to override this.\n"
     ]
    },
    {
     "name": "stdout",
     "output_type": "stream",
     "text": [
      "Initial log joint probability = -4.02548\n",
      "    Iter      log prob        ||dx||      ||grad||       alpha      alpha0  # evals  Notes \n",
      "      99       514.021     0.0310668         169.7      0.2297           1      128   \n",
      "    Iter      log prob        ||dx||      ||grad||       alpha      alpha0  # evals  Notes \n",
      "     100       514.097   0.000955966       82.6695   5.633e-06       0.001      166  LS failed, Hessian reset \n",
      "     120       514.801   0.000749653       88.7949    7.01e-06       0.001      226  LS failed, Hessian reset \n",
      "     170        514.92   0.000399752       60.6966   5.955e-06       0.001      335  LS failed, Hessian reset \n",
      "     199       514.941   9.06896e-06       72.4911           1           1      371   \n",
      "    Iter      log prob        ||dx||      ||grad||       alpha      alpha0  # evals  Notes \n",
      "     252       514.947   5.63623e-07        62.444   7.246e-09       0.001      485  LS failed, Hessian reset \n",
      "     260       514.947   3.13394e-08       53.4348      0.2375           1      499   \n",
      "Optimization terminated normally: \n",
      "  Convergence detected: relative gradient magnitude is below tolerance\n"
     ]
    },
    {
     "name": "stderr",
     "output_type": "stream",
     "text": [
      "/Users/andrejmironov/opt/anaconda3/envs/py38/lib/python3.8/site-packages/prophet/forecaster.py:896: FutureWarning: The frame.append method is deprecated and will be removed from pandas in a future version. Use pandas.concat instead.\n",
      "  components = components.append(new_comp)\n"
     ]
    },
    {
     "data": {
      "text/plain": [
       "<prophet.forecaster.Prophet at 0x14457b8b0>"
      ]
     },
     "execution_count": 19,
     "metadata": {},
     "output_type": "execute_result"
    }
   ],
   "source": [
    "m = Prophet()\n",
    "m.fit(df)"
   ]
  },
  {
   "cell_type": "markdown",
   "metadata": {},
   "source": [
    "Выбираю период, добавляем в df, точнее количество дней (т.к. комментарий добавляю 05.10, а код строил таким образом, что бы не нужно было вводить данные - автоматом рассчитывалось T+1), предсказывать будем на 06.10.\n",
    "На 05.10 предсказывал 56.041162\tруб."
   ]
  },
  {
   "cell_type": "markdown",
   "metadata": {},
   "source": [
    "Зададим нужный период i"
   ]
  },
  {
   "cell_type": "code",
   "execution_count": 20,
   "metadata": {},
   "outputs": [],
   "source": [
    "i = 1"
   ]
  },
  {
   "cell_type": "code",
   "execution_count": 21,
   "metadata": {},
   "outputs": [
    {
     "data": {
      "text/html": [
       "<div>\n",
       "<style scoped>\n",
       "    .dataframe tbody tr th:only-of-type {\n",
       "        vertical-align: middle;\n",
       "    }\n",
       "\n",
       "    .dataframe tbody tr th {\n",
       "        vertical-align: top;\n",
       "    }\n",
       "\n",
       "    .dataframe thead th {\n",
       "        text-align: right;\n",
       "    }\n",
       "</style>\n",
       "<table border=\"1\" class=\"dataframe\">\n",
       "  <thead>\n",
       "    <tr style=\"text-align: right;\">\n",
       "      <th></th>\n",
       "      <th>ds</th>\n",
       "    </tr>\n",
       "  </thead>\n",
       "  <tbody>\n",
       "    <tr>\n",
       "      <th>257</th>\n",
       "      <td>2022-09-30</td>\n",
       "    </tr>\n",
       "    <tr>\n",
       "      <th>258</th>\n",
       "      <td>2022-10-03</td>\n",
       "    </tr>\n",
       "    <tr>\n",
       "      <th>259</th>\n",
       "      <td>2022-10-04</td>\n",
       "    </tr>\n",
       "    <tr>\n",
       "      <th>260</th>\n",
       "      <td>2022-10-05</td>\n",
       "    </tr>\n",
       "    <tr>\n",
       "      <th>261</th>\n",
       "      <td>2022-10-06</td>\n",
       "    </tr>\n",
       "  </tbody>\n",
       "</table>\n",
       "</div>"
      ],
      "text/plain": [
       "            ds\n",
       "257 2022-09-30\n",
       "258 2022-10-03\n",
       "259 2022-10-04\n",
       "260 2022-10-05\n",
       "261 2022-10-06"
      ]
     },
     "execution_count": 21,
     "metadata": {},
     "output_type": "execute_result"
    }
   ],
   "source": [
    "future = m.make_future_dataframe(periods=i)\n",
    "future.tail()"
   ]
  },
  {
   "cell_type": "markdown",
   "metadata": {},
   "source": [
    "Предсказываем, доверительный интервал, в том числе.\n",
    "Верхня и нижняя границы +-12. Существенные отклонения возможны."
   ]
  },
  {
   "cell_type": "code",
   "execution_count": 22,
   "metadata": {},
   "outputs": [
    {
     "name": "stderr",
     "output_type": "stream",
     "text": [
      "/Users/andrejmironov/opt/anaconda3/envs/py38/lib/python3.8/site-packages/prophet/forecaster.py:896: FutureWarning: The frame.append method is deprecated and will be removed from pandas in a future version. Use pandas.concat instead.\n",
      "  components = components.append(new_comp)\n",
      "/Users/andrejmironov/opt/anaconda3/envs/py38/lib/python3.8/site-packages/prophet/forecaster.py:896: FutureWarning: The frame.append method is deprecated and will be removed from pandas in a future version. Use pandas.concat instead.\n",
      "  components = components.append(new_comp)\n"
     ]
    },
    {
     "data": {
      "text/html": [
       "<div>\n",
       "<style scoped>\n",
       "    .dataframe tbody tr th:only-of-type {\n",
       "        vertical-align: middle;\n",
       "    }\n",
       "\n",
       "    .dataframe tbody tr th {\n",
       "        vertical-align: top;\n",
       "    }\n",
       "\n",
       "    .dataframe thead th {\n",
       "        text-align: right;\n",
       "    }\n",
       "</style>\n",
       "<table border=\"1\" class=\"dataframe\">\n",
       "  <thead>\n",
       "    <tr style=\"text-align: right;\">\n",
       "      <th></th>\n",
       "      <th>ds</th>\n",
       "      <th>yhat</th>\n",
       "      <th>yhat_lower</th>\n",
       "      <th>yhat_upper</th>\n",
       "    </tr>\n",
       "  </thead>\n",
       "  <tbody>\n",
       "    <tr>\n",
       "      <th>257</th>\n",
       "      <td>2022-09-30</td>\n",
       "      <td>56.395346</td>\n",
       "      <td>44.852776</td>\n",
       "      <td>68.370154</td>\n",
       "    </tr>\n",
       "    <tr>\n",
       "      <th>258</th>\n",
       "      <td>2022-10-03</td>\n",
       "      <td>57.031599</td>\n",
       "      <td>44.767232</td>\n",
       "      <td>68.377247</td>\n",
       "    </tr>\n",
       "    <tr>\n",
       "      <th>259</th>\n",
       "      <td>2022-10-04</td>\n",
       "      <td>56.615886</td>\n",
       "      <td>44.985490</td>\n",
       "      <td>69.063051</td>\n",
       "    </tr>\n",
       "    <tr>\n",
       "      <th>260</th>\n",
       "      <td>2022-10-05</td>\n",
       "      <td>56.322943</td>\n",
       "      <td>44.176860</td>\n",
       "      <td>67.779518</td>\n",
       "    </tr>\n",
       "    <tr>\n",
       "      <th>261</th>\n",
       "      <td>2022-10-06</td>\n",
       "      <td>56.241116</td>\n",
       "      <td>43.748221</td>\n",
       "      <td>69.308391</td>\n",
       "    </tr>\n",
       "  </tbody>\n",
       "</table>\n",
       "</div>"
      ],
      "text/plain": [
       "            ds       yhat  yhat_lower  yhat_upper\n",
       "257 2022-09-30  56.395346   44.852776   68.370154\n",
       "258 2022-10-03  57.031599   44.767232   68.377247\n",
       "259 2022-10-04  56.615886   44.985490   69.063051\n",
       "260 2022-10-05  56.322943   44.176860   67.779518\n",
       "261 2022-10-06  56.241116   43.748221   69.308391"
      ]
     },
     "execution_count": 22,
     "metadata": {},
     "output_type": "execute_result"
    }
   ],
   "source": [
    "forecast = m.predict(future)\n",
    "forecast[['ds', 'yhat', 'yhat_lower', 'yhat_upper']].tail()"
   ]
  },
  {
   "cell_type": "code",
   "execution_count": 23,
   "metadata": {},
   "outputs": [
    {
     "data": {
      "image/png": "[encoded data removed]",
      "text/plain": [
       "<Figure size 1000x600 with 1 Axes>"
      ]
     },
     "metadata": {},
     "output_type": "display_data"
    }
   ],
   "source": [
    "fig1 = m.plot(forecast)"
   ]
  }
 ],
 "metadata": {
  "kernelspec": {
   "display_name": "Python 3.8.13 ('py38')",
   "language": "python",
   "name": "python3"
  },
  "language_info": {
   "codemirror_mode": {
    "name": "ipython",
    "version": 3
   },
   "file_extension": ".py",
   "mimetype": "text/x-python",
   "name": "python",
   "nbconvert_exporter": "python",
   "pygments_lexer": "ipython3",
   "version": "3.8.13"
  },
  "orig_nbformat": 4,
  "vscode": {
   "interpreter": {
    "hash": "ce7503c00ca60c6f472ec09c3f070f5d9e3e6a81d6830891abdd4afb5af907a5"
   }
  }
 },
 "nbformat": 4,
 "nbformat_minor": 2
}
