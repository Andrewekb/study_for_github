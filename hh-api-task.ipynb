{
 "cells": [
  {
   "cell_type": "code",
   "execution_count": 1,
   "metadata": {},
   "outputs": [],
   "source": [
    "import requests\n",
    "import json\n",
    "from tqdm.auto import tqdm\n",
    "from collections import defaultdict\n",
    "import pickle\n",
    "import pandas as pd\n",
    "import matplotlib.pyplot as plt\n",
    "import numpy as np\n",
    "import datetime\n",
    "from datetime import timedelta\n",
    "from time import sleep"
   ]
  },
  {
   "cell_type": "code",
   "execution_count": 2,
   "metadata": {},
   "outputs": [
    {
     "data": {
      "application/vnd.jupyter.widget-view+json": {
       "model_id": "0d0a873988894953bc4befa185107686",
       "version_major": 2,
       "version_minor": 0
      },
      "text/plain": [
       "  0%|          | 0/1344 [00:00<?, ?it/s]"
      ]
     },
     "metadata": {},
     "output_type": "display_data"
    }
   ],
   "source": [
    "\n",
    "# Собираю id вакансий\n",
    "\n",
    "from time import time\n",
    "\n",
    "\n",
    "period = 14 #можно задать любой до 30 дней, взял 14 дней, получилось собрать более 2000 id\n",
    "\n",
    "\n",
    "t = datetime.datetime.now()     # собираю вакансии с интервалом 15 мин от текущей даты t\n",
    "delta = timedelta(hours=0.25)   # интервал в 15 минут\n",
    "                                # даты в url перевожу в нужный формат isoforma()\n",
    "t1 = t - delta\n",
    "sber = '3529'\n",
    "\n",
    "\n",
    "\n",
    "\n",
    "\n",
    "\n",
    "all_vacancy_ids = []\n",
    "for i in tqdm(range(period*96)):\n",
    "\n",
    "    url = f'https://api.hh.ru/vacancies?employer_id={sber}&date_to={t.isoformat()}&date_from={t1.isoformat()}'\n",
    "    res = requests.get(url)\n",
    "    vacancies = res.json()\n",
    "    vacancy_ids = [el.get('id') for el in vacancies.get('items')]\n",
    "    \n",
    "    all_vacancy_ids.extend(vacancy_ids)\n",
    "    if len(all_vacancy_ids) !=0 and len(all_vacancy_ids) % 100 == 0:\n",
    "        res.close()\n",
    "        sleep(10)\n",
    "\n",
    "   # sleep(1)\n",
    "\n",
    "    t = t1 + timedelta(hours=1/3600)\n",
    "    t1 = t - timedelta(hours=0.25)"
   ]
  },
  {
   "cell_type": "code",
   "execution_count": 4,
   "metadata": {},
   "outputs": [
    {
     "data": {
      "application/vnd.jupyter.widget-view+json": {
       "model_id": "052f3ede30f446e09d479aabdfabed87",
       "version_major": 2,
       "version_minor": 0
      },
      "text/plain": [
       "  0%|          | 0/2399 [00:00<?, ?it/s]"
      ]
     },
     "metadata": {},
     "output_type": "display_data"
    }
   ],
   "source": [
    "res.close()\n",
    "sleep(15)\n",
    "\n",
    "vacs = []\n",
    "r = 1\n",
    "for vac_id in tqdm(set(all_vacancy_ids)):       # здесь обернул словарь с id вакансий в set(), встречались повторяющиеся\n",
    "    if r % 100 == 0:                            # возможно из-за округления временных интервалов\n",
    "        sleep(5)\n",
    "        res.close()\n",
    "    url = f'https://api.hh.ru/vacancies/{vac_id}'\n",
    "    res = requests.get(url)\n",
    "    vacs.append(res.json())\n",
    "    r +=1 \n"
   ]
  },
  {
   "cell_type": "code",
   "execution_count": 5,
   "metadata": {},
   "outputs": [],
   "source": [
    "vacs_1 = vacs # на всякий случай сохранил"
   ]
  },
  {
   "cell_type": "code",
   "execution_count": null,
   "metadata": {},
   "outputs": [],
   "source": [
    "#далее я оставил все, как это сделал 2 недели назад. в 3-м задании виден прогресс, даже моим невооруженным взглядом"
   ]
  },
  {
   "cell_type": "code",
   "execution_count": 7,
   "metadata": {},
   "outputs": [],
   "source": [
    "vacs = pd.json_normalize(vacs)"
   ]
  },
  {
   "cell_type": "code",
   "execution_count": 8,
   "metadata": {},
   "outputs": [],
   "source": [
    "vacs = vacs.drop(columns=['premium', 'relations', 'insider_interview',\n",
    "       'response_letter_required', 'address', 'allow_messages', 'contacts',\n",
    "        'branded_description', 'vacancy_constructor_template',\n",
    "       'accept_handicapped', 'accept_kids', 'archived',\n",
    "       'response_url', 'specializations', 'professional_roles', 'code',\n",
    "       'hidden', 'quick_responses_allowed', 'driver_license_types',\n",
    "       'accept_incomplete_resumes', 'created_at',\n",
    "       'initial_created_at', 'negotiations_url', 'suitable_resumes_url',\n",
    "       'apply_alternate_url', 'has_test', 'test', 'alternate_url',\n",
    "       'working_days', 'working_time_intervals', 'working_time_modes',\n",
    "       'accept_temporary', 'languages', 'billing_type.id', 'billing_type.name',\n",
    "       'area.id', 'area.name', 'area.url', 'salary.from', 'salary.to',\n",
    "       'salary.currency', 'salary.gross', 'type.id', 'type.name',\n",
    "       'experience.id', 'experience.name', 'schedule.id', 'schedule.name',\n",
    "       'employment.id', 'employment.name', 'department.id', 'department.name',\n",
    "       'employer.id', 'employer.name', 'employer.url',\n",
    "       'employer.alternate_url', 'employer.logo_urls.original',\n",
    "       'employer.logo_urls.90', 'employer.logo_urls.240',\n",
    "       'employer.vacancies_url', 'employer.trusted', 'address.city',\n",
    "       'address.street', 'address.building', 'address.description',\n",
    "       'address.lat', 'address.lng', 'address.raw',\n",
    "       'address.metro.station_name', 'address.metro.line_name',\n",
    "       'address.metro.station_id', 'address.metro.line_id',\n",
    "       'address.metro.lat', 'address.metro.lng', 'address.metro_stations',\n",
    "       'department', 'address.metro', 'immediate_redirect_url'])"
   ]
  },
  {
   "cell_type": "code",
   "execution_count": 10,
   "metadata": {},
   "outputs": [
    {
     "data": {
      "text/html": [
       "<div>\n",
       "<style scoped>\n",
       "    .dataframe tbody tr th:only-of-type {\n",
       "        vertical-align: middle;\n",
       "    }\n",
       "\n",
       "    .dataframe tbody tr th {\n",
       "        vertical-align: top;\n",
       "    }\n",
       "\n",
       "    .dataframe thead th {\n",
       "        text-align: right;\n",
       "    }\n",
       "</style>\n",
       "<table border=\"1\" class=\"dataframe\">\n",
       "  <thead>\n",
       "    <tr style=\"text-align: right;\">\n",
       "      <th></th>\n",
       "      <th>id</th>\n",
       "      <th>name</th>\n",
       "      <th>description</th>\n",
       "      <th>key_skills</th>\n",
       "      <th>published_at</th>\n",
       "      <th>salary</th>\n",
       "    </tr>\n",
       "  </thead>\n",
       "  <tbody>\n",
       "    <tr>\n",
       "      <th>2394</th>\n",
       "      <td>68469571</td>\n",
       "      <td>Специалист по внутренним коммуникациям</td>\n",
       "      <td>&lt;p&gt;Кластер Методологии и Инструментов Тестиров...</td>\n",
       "      <td>[{'name': 'Внутренние коммуникации'}, {'name':...</td>\n",
       "      <td>2022-08-04T11:06:35+0300</td>\n",
       "      <td>NaN</td>\n",
       "    </tr>\n",
       "    <tr>\n",
       "      <th>2395</th>\n",
       "      <td>68168792</td>\n",
       "      <td>Главный юрисконсульт в Сектор уголовно-процесс...</td>\n",
       "      <td>&lt;p&gt;Цель должности: методология вопросов примен...</td>\n",
       "      <td>[]</td>\n",
       "      <td>2022-08-05T17:05:39+0300</td>\n",
       "      <td>NaN</td>\n",
       "    </tr>\n",
       "    <tr>\n",
       "      <th>2396</th>\n",
       "      <td>68575157</td>\n",
       "      <td>Старший клиентский менеджер</td>\n",
       "      <td>&lt;p&gt;Сбер — лучший работодатель России. У нас бо...</td>\n",
       "      <td>[]</td>\n",
       "      <td>2022-08-08T15:54:55+0300</td>\n",
       "      <td>NaN</td>\n",
       "    </tr>\n",
       "    <tr>\n",
       "      <th>2397</th>\n",
       "      <td>68377818</td>\n",
       "      <td>Руководитель направления в Управление моделями</td>\n",
       "      <td>&lt;strong&gt;Обязанности:&lt;/strong&gt; &lt;ul&gt; &lt;li&gt;Портфел...</td>\n",
       "      <td>[{'name': 'Анализ рисков'}, {'name': 'Моделиро...</td>\n",
       "      <td>2022-08-02T09:37:42+0300</td>\n",
       "      <td>NaN</td>\n",
       "    </tr>\n",
       "    <tr>\n",
       "      <th>2398</th>\n",
       "      <td>68326202</td>\n",
       "      <td>Клиентский менеджер малого и микробизнеса</td>\n",
       "      <td>&lt;p&gt;Клиентский менеджер малого и микробизнеса –...</td>\n",
       "      <td>[{'name': 'Активные продажи'}, {'name': 'Прове...</td>\n",
       "      <td>2022-08-01T09:56:27+0300</td>\n",
       "      <td>NaN</td>\n",
       "    </tr>\n",
       "  </tbody>\n",
       "</table>\n",
       "</div>"
      ],
      "text/plain": [
       "            id                                               name  \\\n",
       "2394  68469571             Специалист по внутренним коммуникациям   \n",
       "2395  68168792  Главный юрисконсульт в Сектор уголовно-процесс...   \n",
       "2396  68575157                        Старший клиентский менеджер   \n",
       "2397  68377818     Руководитель направления в Управление моделями   \n",
       "2398  68326202          Клиентский менеджер малого и микробизнеса   \n",
       "\n",
       "                                            description  \\\n",
       "2394  <p>Кластер Методологии и Инструментов Тестиров...   \n",
       "2395  <p>Цель должности: методология вопросов примен...   \n",
       "2396  <p>Сбер — лучший работодатель России. У нас бо...   \n",
       "2397  <strong>Обязанности:</strong> <ul> <li>Портфел...   \n",
       "2398  <p>Клиентский менеджер малого и микробизнеса –...   \n",
       "\n",
       "                                             key_skills  \\\n",
       "2394  [{'name': 'Внутренние коммуникации'}, {'name':...   \n",
       "2395                                                 []   \n",
       "2396                                                 []   \n",
       "2397  [{'name': 'Анализ рисков'}, {'name': 'Моделиро...   \n",
       "2398  [{'name': 'Активные продажи'}, {'name': 'Прове...   \n",
       "\n",
       "                  published_at  salary  \n",
       "2394  2022-08-04T11:06:35+0300     NaN  \n",
       "2395  2022-08-05T17:05:39+0300     NaN  \n",
       "2396  2022-08-08T15:54:55+0300     NaN  \n",
       "2397  2022-08-02T09:37:42+0300     NaN  \n",
       "2398  2022-08-01T09:56:27+0300     NaN  "
      ]
     },
     "execution_count": 10,
     "metadata": {},
     "output_type": "execute_result"
    }
   ],
   "source": [
    "vacs.tail()"
   ]
  },
  {
   "cell_type": "code",
   "execution_count": 11,
   "metadata": {},
   "outputs": [],
   "source": [
    "# Перевел дату в нужный формат\n",
    "\n",
    "vacs.published_at = pd.to_datetime(vacs.published_at)"
   ]
  },
  {
   "cell_type": "code",
   "execution_count": 12,
   "metadata": {},
   "outputs": [],
   "source": [
    "name = vacs.name\n",
    "date = vacs.published_at\n",
    "\n",
    "u = pd.concat([date, name], axis=1)\n",
    "u.published_at = pd.to_numeric(u.published_at)"
   ]
  },
  {
   "cell_type": "code",
   "execution_count": 13,
   "metadata": {},
   "outputs": [
    {
     "data": {
      "image/png": "[encoded data removed]",
      "text/plain": [
       "<Figure size 432x288 with 1 Axes>"
      ]
     },
     "metadata": {
      "needs_background": "light"
     },
     "output_type": "display_data"
    }
   ],
   "source": [
    "plt.plot(vacs['published_at'])\n",
    "\n",
    "plt.show()"
   ]
  },
  {
   "cell_type": "code",
   "execution_count": 14,
   "metadata": {},
   "outputs": [
    {
     "data": {
      "text/plain": [
       "array(['We', 'Th', 'Tu', 'Sun', 'Fr', 'Mo', 'Sa'], dtype=object)"
      ]
     },
     "execution_count": 14,
     "metadata": {},
     "output_type": "execute_result"
    }
   ],
   "source": [
    "#здесь добавляю колонку с днями недели\n",
    "\n",
    "# Перевожу в индексы с 0-6\n",
    "vacs['weekday'] = vacs['published_at'].dt.dayofweek\n",
    "\n",
    "# Передаю новые значения в словаре\n",
    "test = vacs.replace({'weekday':{0:'Mo', 1:\"Tu\", 2:'We', 3:'Th', 4:'Fr', 5:'Sa', 6:'Sun'}})\n",
    "test.weekday.unique()"
   ]
  },
  {
   "cell_type": "code",
   "execution_count": 15,
   "metadata": {},
   "outputs": [
    {
     "data": {
      "text/plain": [
       "weekday\n",
       "Fr     450\n",
       "Mo     514\n",
       "Sa      35\n",
       "Sun     78\n",
       "Th     456\n",
       "Tu     377\n",
       "We     489\n",
       "Name: name, dtype: int64"
      ]
     },
     "execution_count": 15,
     "metadata": {},
     "output_type": "execute_result"
    }
   ],
   "source": [
    "# больше всего вакансий опубликовано в понедельник\n",
    "\n",
    "test.groupby('weekday')['name'].count()"
   ]
  },
  {
   "cell_type": "code",
   "execution_count": 16,
   "metadata": {},
   "outputs": [],
   "source": [
    "from matplotlib.cbook import flatten\n",
    "\n",
    "\n",
    "# это плод моего поиска решения, долго провозился, решил оставить\n",
    "\n",
    "#Слайс по вакансиям с python\n",
    "\n",
    "with_python = vacs.description.str.lower().str.contains('python'.lower())\n",
    "\n",
    "best = vacs[with_python]\n",
    "\n",
    "# Слайс по вакансиям аналитика\n",
    "cool = best.name.str.lower().str.contains('аналитик'.lower())\n",
    "\n",
    "# Здесь выборка аналитик с требованием python \n",
    "\n",
    "\n",
    "best = best[cool].reset_index()\n",
    "\n",
    "\n",
    "# Здесь из получившихся данных достаю скилы\n",
    "i = 0\n",
    "l = []\n",
    "for i in range(len(best.key_skills)):\n",
    "    l.append([x.get('name') for x in best.key_skills[i]])\n",
    "    i += 1\n",
    "\n",
    "# Тут я совсем сломал голову, создал общий список, далее удалил дубли и создал словарь\n",
    "l = list(flatten(l))\n",
    "l_u = set(l)\n",
    "\n",
    "d = {'skills':[], 'position':[]}\n",
    "\n",
    "# здесь считаю количество повторений, создаю словарь\n",
    "for i in l_u:\n",
    "    d['skills'].append(i)\n",
    "    d['position'].append(l.count(i))\n",
    "# из словаря получился DataFrame\n",
    "\n",
    "d = pd.DataFrame(d)"
   ]
  },
  {
   "cell_type": "code",
   "execution_count": 17,
   "metadata": {},
   "outputs": [
    {
     "data": {
      "text/plain": [
       "<AxesSubplot:xlabel='skills'>"
      ]
     },
     "execution_count": 17,
     "metadata": {},
     "output_type": "execute_result"
    },
    {
     "data": {
      "image/png": "[encoded data removed]",
      "text/plain": [
       "<Figure size 432x288 with 1 Axes>"
      ]
     },
     "metadata": {
      "needs_background": "light"
     },
     "output_type": "display_data"
    }
   ],
   "source": [
    "d.plot(x = 'skills' , y = 'position')"
   ]
  }
 ],
 "metadata": {
  "kernelspec": {
   "display_name": "Python 3.10.5 64-bit",
   "language": "python",
   "name": "python3"
  },
  "language_info": {
   "codemirror_mode": {
    "name": "ipython",
    "version": 3
   },
   "file_extension": ".py",
   "mimetype": "text/x-python",
   "name": "python",
   "nbconvert_exporter": "python",
   "pygments_lexer": "ipython3",
   "version": "3.10.5"
  },
  "orig_nbformat": 4,
  "vscode": {
   "interpreter": {
    "hash": "aee8b7b246df8f9039afb4144a1f6fd8d2ca17a180786b69acc140d282b71a49"
   }
  }
 },
 "nbformat": 4,
 "nbformat_minor": 2
}
