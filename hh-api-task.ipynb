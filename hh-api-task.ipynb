{
 "cells": [
  {
   "cell_type": "code",
   "execution_count": 1,
   "metadata": {},
   "outputs": [],
   "source": [
    "import requests\n",
    "import json\n",
    "from tqdm.auto import tqdm\n",
    "from collections import defaultdict\n",
    "import pickle\n",
    "import pandas as pd\n",
    "import matplotlib.pyplot as plt\n",
    "import numpy as np\n",
    "import datetime\n",
    "from datetime import timedelta\n",
    "from time import sleep"
   ]
  },
  {
   "cell_type": "code",
   "execution_count": 69,
   "metadata": {},
   "outputs": [
    {
     "data": {
      "application/vnd.jupyter.widget-view+json": {
       "model_id": "032c71bd80fc469bbb26e24a6989d261",
       "version_major": 2,
       "version_minor": 0
      },
      "text/plain": [
       "  0%|          | 0/672 [00:00<?, ?it/s]"
      ]
     },
     "metadata": {},
     "output_type": "display_data"
    }
   ],
   "source": [
    "\n",
    "# Собираю json\n",
    "\n",
    "from time import time\n",
    "\n",
    "\n",
    "period = 7 #можно задать любой до 30 дней\n",
    "\n",
    "\n",
    "t = datetime.datetime.now() \n",
    "delta = timedelta(hours=0.5) \n",
    "t1 = t - delta\n",
    "sber = '3529'\n",
    "page = 1\n",
    "per_page = 100\n",
    "\n",
    "\n",
    "\n",
    "\n",
    "all_vacancy_ids = []\n",
    "for i in tqdm(range(period*96)):\n",
    "\n",
    "    url = f'https://api.hh.ru/vacancies?employer_id={sber}&date_to={t.isoformat()}&date_from={t1.isoformat()}'\n",
    "    res = requests.get(url)\n",
    "    vacancies = res.json()\n",
    "    vacancy_ids = [el.get('id') for el in vacancies.get('items')]\n",
    "    \n",
    "    all_vacancy_ids.extend(vacancy_ids)\n",
    "    if len(all_vacancy_ids) !=0 and len(all_vacancy_ids) % 1000 == 0:\n",
    "        sleep(10)\n",
    "\n",
    "   # sleep(1)\n",
    "\n",
    "    t = t1 + timedelta(hours=1/3600)\n",
    "    t1 = t - timedelta(hours=0.25)"
   ]
  },
  {
   "cell_type": "code",
   "execution_count": 73,
   "metadata": {},
   "outputs": [
    {
     "data": {
      "application/vnd.jupyter.widget-view+json": {
       "model_id": "4f5eb0d86b624e1f93ece7c4174592bd",
       "version_major": 2,
       "version_minor": 0
      },
      "text/plain": [
       "  0%|          | 0/1508 [00:00<?, ?it/s]"
      ]
     },
     "metadata": {},
     "output_type": "display_data"
    }
   ],
   "source": [
    "res.close()\n",
    "sleep(15)\n",
    "\n",
    "vacs = []\n",
    "r = 1\n",
    "for vac_id in tqdm(set(all_vacancy_ids)):\n",
    "    if r % 100 == 0:\n",
    "        sleep(5)\n",
    "    url = f'https://api.hh.ru/vacancies/{vac_id}'\n",
    "    res = requests.get(url)\n",
    "    vacs.append(res.json())\n",
    "    r +=1 \n"
   ]
  }
 ],
 "metadata": {
  "kernelspec": {
   "display_name": "Python 3.10.5 64-bit",
   "language": "python",
   "name": "python3"
  },
  "language_info": {
   "codemirror_mode": {
    "name": "ipython",
    "version": 3
   },
   "file_extension": ".py",
   "mimetype": "text/x-python",
   "name": "python",
   "nbconvert_exporter": "python",
   "pygments_lexer": "ipython3",
   "version": "3.10.5"
  },
  "orig_nbformat": 4,
  "vscode": {
   "interpreter": {
    "hash": "aee8b7b246df8f9039afb4144a1f6fd8d2ca17a180786b69acc140d282b71a49"
   }
  }
 },
 "nbformat": 4,
 "nbformat_minor": 2
}
