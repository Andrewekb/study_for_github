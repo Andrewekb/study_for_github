{
 "cells": [
  {
   "cell_type": "markdown",
   "metadata": {
    "collapsed": false,
    "pycharm": {
     "name": "#%% md\n"
    }
   },
   "source": [
    "[![Open In Colab](https://colab.research.google.com/assets/colab-badge.svg)](https://colab.research.google.com/github/da-python/python-for-data-analytics/blob/main/Lesson3/hometask/hometask_SyntheticRubber.ipynb)"
   ]
  },
  {
   "cell_type": "code",
   "execution_count": 43,
   "metadata": {
    "collapsed": false,
    "pycharm": {
     "name": "#%%\n"
    }
   },
   "outputs": [],
   "source": [
    "import requests\n",
    "import yfinance as yf\n",
    "import pandas as pd\n",
    "import matplotlib.pyplot as plt\n",
    "import seaborn; seaborn.set()\n",
    "from tqdm.auto import tqdm"
   ]
  },
  {
   "cell_type": "code",
   "execution_count": 3,
   "metadata": {
    "collapsed": false,
    "pycharm": {
     "name": "#%%\n"
    }
   },
   "outputs": [],
   "source": [
    "# Для работы с API может потребоваться обходное решение для работы с SSL сертификатом\n",
    "# import ssl\n",
    "# ssl._create_default_https_context = ssl._create_unverified_context"
   ]
  },
  {
   "cell_type": "markdown",
   "metadata": {
    "pycharm": {
     "name": "#%% md\n"
    }
   },
   "source": [
    "# Задание 1.\n",
    "\n",
    "* Вы - менеджер по продажам в нефтехимической компании.\n",
    "* Вы ведете несколько ключевых клиентов, которые закупают продукты вашей компании.\n",
    "* Ваши клиенты предпочитают формульный подход к ценообразованию и вам нужно предложить клиентам формулу цены на синтетический каучук, который может быть альтернативой натуральному каучуку с грейдом SMR 20.\n",
    "* В зависимости от объемов, которые покупают клиенты, им может быть предложена скидка.\n"
   ]
  },
  {
   "cell_type": "markdown",
   "metadata": {
    "collapsed": false,
    "pycharm": {
     "name": "#%% md\n"
    }
   },
   "source": [
    "### Что нужно сделать?\n",
    "\n",
    "1. Проанализировать имеющиеся данные.\n",
    "2. Определить базовую формулу цены на условиях FCA (цена на заводе). То есть как бы выглядела цена на исторических данных.\n",
    "3. Отобразить на графике.\n",
    "4. Сделать расчет возможной цены по формуле для каждого из клиентов на условиях DDP (цена с доставкой). Записать все в один эксель файл, на разных листах. Каждый лист - название клиента.\n",
    "5. Предложить формулу цены каждому из клиентов на условиях DDP (цена с доставкой).\n",
    "- Создать директорию «для клиентов» и в ней сложить файлы с расчетами.\n",
    "- Каждый клиент - отдельный файл (любой из docx, xlsx, pptx, pdf)  с именем клиента…"
   ]
  },
  {
   "cell_type": "code",
   "execution_count": 44,
   "metadata": {
    "collapsed": false,
    "pycharm": {
     "name": "#%%\n"
    }
   },
   "outputs": [],
   "source": [
    "# Из данных есть:\n",
    "# Затраты на производство\n",
    "PRODUCTION_COST = 400 # (EUR)\n",
    "\n",
    "# Расходы на логистику\n",
    "EU_LOGISTIC_COST_EUR = 30 # в Европу в евро\n",
    "CN_LOGISTIC_COST_USD = 130 # в Китай в долларах\n",
    "\n",
    "# * Справочная информация по клиентам(объемы, локации, комментарии)\n",
    "# location - локация клиента\n",
    "# volumes - закупаемые объемы\n",
    "# formula - предпочитаемая формула расчета цены - скользящая средняя или среднее значение за месяц\n",
    "\n",
    "customers = {\n",
    "    'Monty':{\n",
    "        'location':'EU',\n",
    "        'volumes':200,\n",
    "        'formula':'moving_average'\n",
    "    },\n",
    "\n",
    "    'Triangle':{\n",
    "        'location':'CN',\n",
    "        'volumes': 30,\n",
    "        'formula': 'monthly'\n",
    "    },\n",
    "    'Stone':{\n",
    "        'location':'EU',\n",
    "        'volumes': 150,\n",
    "        'formula': 'moving_average'\n",
    "    },\n",
    "    'Poly':{\n",
    "        'location':'EU',\n",
    "        'volumes': 70,\n",
    "        'formula': 'monthly'\n",
    "    }\n",
    "}\n",
    "# Скидки\n",
    "discounts = {'up to 100': 0.01, # 1%\n",
    "             'up to 300': 0.05, # 5%\n",
    "             '300 plus': 0.1}   #10%\n"
   ]
  },
  {
   "cell_type": "code",
   "execution_count": 45,
   "metadata": {
    "collapsed": false,
    "pycharm": {
     "name": "#%%\n"
    }
   },
   "outputs": [
    {
     "data": {
      "text/html": [
       "<div>\n",
       "<style scoped>\n",
       "    .dataframe tbody tr th:only-of-type {\n",
       "        vertical-align: middle;\n",
       "    }\n",
       "\n",
       "    .dataframe tbody tr th {\n",
       "        vertical-align: top;\n",
       "    }\n",
       "\n",
       "    .dataframe thead th {\n",
       "        text-align: right;\n",
       "    }\n",
       "</style>\n",
       "<table border=\"1\" class=\"dataframe\">\n",
       "  <thead>\n",
       "    <tr style=\"text-align: right;\">\n",
       "      <th></th>\n",
       "      <th>date</th>\n",
       "      <th>grade</th>\n",
       "      <th>masa</th>\n",
       "      <th>rm</th>\n",
       "      <th>us</th>\n",
       "      <th>tone</th>\n",
       "    </tr>\n",
       "  </thead>\n",
       "  <tbody>\n",
       "    <tr>\n",
       "      <th>0</th>\n",
       "      <td>2022-07-29</td>\n",
       "      <td>SMR CV</td>\n",
       "      <td>Noon</td>\n",
       "      <td>905.00</td>\n",
       "      <td>206.80</td>\n",
       "      <td>Quiet</td>\n",
       "    </tr>\n",
       "    <tr>\n",
       "      <th>1</th>\n",
       "      <td>2022-07-29</td>\n",
       "      <td>SMR L</td>\n",
       "      <td>Noon</td>\n",
       "      <td>895.00</td>\n",
       "      <td>204.50</td>\n",
       "      <td>Quiet</td>\n",
       "    </tr>\n",
       "    <tr>\n",
       "      <th>2</th>\n",
       "      <td>2022-07-29</td>\n",
       "      <td>SMR 5</td>\n",
       "      <td>Noon</td>\n",
       "      <td>693.00</td>\n",
       "      <td>158.35</td>\n",
       "      <td>Quiet</td>\n",
       "    </tr>\n",
       "    <tr>\n",
       "      <th>3</th>\n",
       "      <td>2022-07-29</td>\n",
       "      <td>SMR GP</td>\n",
       "      <td>Noon</td>\n",
       "      <td>690.00</td>\n",
       "      <td>157.70</td>\n",
       "      <td>Quiet</td>\n",
       "    </tr>\n",
       "    <tr>\n",
       "      <th>4</th>\n",
       "      <td>2022-07-29</td>\n",
       "      <td>SMR 10</td>\n",
       "      <td>Noon</td>\n",
       "      <td>683.00</td>\n",
       "      <td>156.10</td>\n",
       "      <td>Quiet</td>\n",
       "    </tr>\n",
       "  </tbody>\n",
       "</table>\n",
       "</div>"
      ],
      "text/plain": [
       "         date   grade  masa      rm      us   tone\n",
       "0  2022-07-29  SMR CV  Noon  905.00  206.80  Quiet\n",
       "1  2022-07-29   SMR L  Noon  895.00  204.50  Quiet\n",
       "2  2022-07-29   SMR 5  Noon  693.00  158.35  Quiet\n",
       "3  2022-07-29  SMR GP  Noon  690.00  157.70  Quiet\n",
       "4  2022-07-29  SMR 10  Noon  683.00  156.10  Quiet"
      ]
     },
     "execution_count": 45,
     "metadata": {},
     "output_type": "execute_result"
    }
   ],
   "source": [
    "# Котировки натурального каучука доступны на сайте,  https://www.lgm.gov.my\n",
    "# также у них есть API, пример запроса ниже\n",
    "#\n",
    "year = '2022'\n",
    "month = '07'\n",
    "url = f\"https://www.lgm.gov.my/webv2api/api/rubberprice/month={month}&year={year}\"\n",
    "res = requests.get(url)\n",
    "rj = res.json()\n",
    "df = pd.json_normalize(rj)\n",
    "\n",
    "df.head()\n",
    "\n",
    "\n"
   ]
  },
  {
   "cell_type": "code",
   "execution_count": 46,
   "metadata": {},
   "outputs": [
    {
     "data": {
      "text/html": [
       "<div>\n",
       "<style scoped>\n",
       "    .dataframe tbody tr th:only-of-type {\n",
       "        vertical-align: middle;\n",
       "    }\n",
       "\n",
       "    .dataframe tbody tr th {\n",
       "        vertical-align: top;\n",
       "    }\n",
       "\n",
       "    .dataframe thead th {\n",
       "        text-align: right;\n",
       "    }\n",
       "</style>\n",
       "<table border=\"1\" class=\"dataframe\">\n",
       "  <thead>\n",
       "    <tr style=\"text-align: right;\">\n",
       "      <th></th>\n",
       "      <th>date</th>\n",
       "      <th>grade</th>\n",
       "      <th>masa</th>\n",
       "      <th>rm</th>\n",
       "      <th>us</th>\n",
       "      <th>tone</th>\n",
       "    </tr>\n",
       "  </thead>\n",
       "  <tbody>\n",
       "    <tr>\n",
       "      <th>0</th>\n",
       "      <td>2022-07-29</td>\n",
       "      <td>SMR 20</td>\n",
       "      <td>Noon</td>\n",
       "      <td>681.00</td>\n",
       "      <td>155.60</td>\n",
       "      <td>Quiet</td>\n",
       "    </tr>\n",
       "    <tr>\n",
       "      <th>1</th>\n",
       "      <td>2022-07-28</td>\n",
       "      <td>SMR 20</td>\n",
       "      <td>Noon</td>\n",
       "      <td>680.50</td>\n",
       "      <td>155.40</td>\n",
       "      <td>Quiet</td>\n",
       "    </tr>\n",
       "    <tr>\n",
       "      <th>2</th>\n",
       "      <td>2022-07-27</td>\n",
       "      <td>SMR 20</td>\n",
       "      <td>Noon</td>\n",
       "      <td>682.00</td>\n",
       "      <td>155.55</td>\n",
       "      <td>Quiet</td>\n",
       "    </tr>\n",
       "    <tr>\n",
       "      <th>3</th>\n",
       "      <td>2022-07-26</td>\n",
       "      <td>SMR 20</td>\n",
       "      <td>Noon</td>\n",
       "      <td>692.50</td>\n",
       "      <td>158.10</td>\n",
       "      <td>Quietly Steady</td>\n",
       "    </tr>\n",
       "    <tr>\n",
       "      <th>4</th>\n",
       "      <td>2022-07-25</td>\n",
       "      <td>SMR 20</td>\n",
       "      <td>Noon</td>\n",
       "      <td>690.50</td>\n",
       "      <td>157.70</td>\n",
       "      <td>Quietly Steady</td>\n",
       "    </tr>\n",
       "  </tbody>\n",
       "</table>\n",
       "</div>"
      ],
      "text/plain": [
       "        date   grade  masa      rm      us            tone\n",
       "0 2022-07-29  SMR 20  Noon  681.00  155.60           Quiet\n",
       "1 2022-07-28  SMR 20  Noon  680.50  155.40           Quiet\n",
       "2 2022-07-27  SMR 20  Noon  682.00  155.55           Quiet\n",
       "3 2022-07-26  SMR 20  Noon  692.50  158.10  Quietly Steady\n",
       "4 2022-07-25  SMR 20  Noon  690.50  157.70  Quietly Steady"
      ]
     },
     "execution_count": 46,
     "metadata": {},
     "output_type": "execute_result"
    }
   ],
   "source": [
    "# на рынке все спокойно\n",
    "\n",
    "# дополнительно построить гистограмму\n",
    "\n",
    "df_smr_20 = df.loc[df['grade'] == 'SMR 20'].reset_index()\n",
    "\n",
    "df_smr_20 = df_smr_20.drop(columns='index')\n",
    "\n",
    "df_smr_20.date = pd.to_datetime(df_smr_20.date)\n",
    "\n",
    "\n",
    "df_smr_20.head()"
   ]
  },
  {
   "cell_type": "code",
   "execution_count": 149,
   "metadata": {},
   "outputs": [],
   "source": [
    "# курс евро к доллару 'EURUSD=X'\n",
    "# курс евро к рублю 'EURRUB=X'\n",
    "# курс доллара к рублю 'USDRUB=X'"
   ]
  },
  {
   "cell_type": "code",
   "execution_count": 47,
   "metadata": {},
   "outputs": [
    {
     "data": {
      "application/vnd.jupyter.widget-view+json": {
       "model_id": "b24c81985e8747eb9a12c53aa833a54f",
       "version_major": 2,
       "version_minor": 0
      },
      "text/plain": [
       "  0%|          | 0/3 [00:00<?, ?it/s]"
      ]
     },
     "metadata": {},
     "output_type": "display_data"
    },
    {
     "name": "stdout",
     "output_type": "stream",
     "text": [
      "[*********************100%***********************]  1 of 1 completed\n",
      "[*********************100%***********************]  1 of 1 completed\n",
      "[*********************100%***********************]  1 of 1 completed\n"
     ]
    }
   ],
   "source": [
    "df_dict = {}\n",
    "for ticker in tqdm(['USDRUB=X', 'EURUSD=X', 'EURRUB=X']):\n",
    "    df = yf.download(ticker)\n",
    "    df = df.Close.copy()\n",
    "    #df = df.resample('M').mean()\n",
    "    df_dict[ticker] = df"
   ]
  },
  {
   "cell_type": "code",
   "execution_count": 48,
   "metadata": {},
   "outputs": [],
   "source": [
    "df = pd.DataFrame(df_dict)\n",
    "df_mean = df.loc['2022-07-01':'2022-07-31']\n",
    "\n",
    "df_mean = df_mean.reset_index()\n",
    "df_mean = df_mean.rename(columns={'Date':'date'})"
   ]
  },
  {
   "cell_type": "code",
   "execution_count": 10,
   "metadata": {},
   "outputs": [
    {
     "data": {
      "text/plain": [
       "Index(['USDRUB=X', 'EURUSD=X', 'EURRUB=X'], dtype='object')"
      ]
     },
     "execution_count": 10,
     "metadata": {},
     "output_type": "execute_result"
    }
   ],
   "source": [
    "#main_df = pd.concat(df_dict.values(), axis=1)\n",
    "#main_df.columns = ['USDRUB', 'EURUSD', 'EURRUB']\n",
    "#df_ju_mean = df.loc['2022-07-01':'2022-07-31']\n",
    "#df_ju_mean.columns\n"
   ]
  },
  {
   "cell_type": "code",
   "execution_count": 49,
   "metadata": {},
   "outputs": [
    {
     "name": "stderr",
     "output_type": "stream",
     "text": [
      "/var/folders/m9/x7jxk9jx2g9ch4ngnwz3n8wh0000gn/T/ipykernel_6198/1757009401.py:6: DeprecationWarning: `np.float` is a deprecated alias for the builtin `float`. To silence this warning, use `float` by itself. Doing this will not modify any behavior and is safe. If you specifically wanted the numpy scalar type, use `np.float64` here.\n",
      "Deprecated in NumPy 1.20; for more details and guidance: https://numpy.org/devdocs/release/1.20.0-notes.html#deprecations\n",
      "  df_all = df_all.astype({'us':np.float})\n"
     ]
    }
   ],
   "source": [
    "import numpy as np\n",
    "\n",
    "df_all = pd.merge(df_smr_20,df_mean)\n",
    "df_all = df_all.drop(columns=['masa','rm','tone'])\n",
    "\n",
    "df_all = df_all.astype({'us':np.float})"
   ]
  },
  {
   "cell_type": "code",
   "execution_count": null,
   "metadata": {},
   "outputs": [],
   "source": [
    "# Гугл, быстрый ответ: Натуральные каучуки очень дороги; \n",
    "# с другой стороны, синтетические каучуки дешевле. \n",
    "# Натуральный каучук обладает большей термостойкостью; с другой стороны, синтетические каучуки более термостойкие. \n",
    "# Натуральный каучук по качеству намного лучше синтетического. \n",
    "# Натуральный каучук не так уж и специфичен по своим характеристикам по сравнению с синтетическим каучуком.\n",
    "\n"
   ]
  },
  {
   "cell_type": "code",
   "execution_count": null,
   "metadata": {},
   "outputs": [],
   "source": [
    "# так же важная информация :)\n",
    "# Несмотря на попытки нашей страны производить натуральный каучук из одуванчиков, \n",
    "# эксперимент оказался экономически нецелесообразен: в России просто нет такого количества одуванчиков, \n",
    "# чтобы произвести каучук в необходимых объемах.\n"
   ]
  },
  {
   "cell_type": "code",
   "execution_count": null,
   "metadata": {},
   "outputs": [],
   "source": [
    "# Исходя из анализарынка и отсутствии одуванчиков, которые  безжалостно удаляются\n",
    "# тримерами, была выбрана базовая цена на каучук - цена SMR 20 - 20%"
   ]
  },
  {
   "cell_type": "code",
   "execution_count": 50,
   "metadata": {},
   "outputs": [],
   "source": [
    "\n",
    "df_all = df_all.rename(columns={'USDRUB=X':'usdrub', 'EURUSD=X':'eurusd', 'EURRUB=X':'eurrub'})\n",
    "\n",
    "#df_all['MWP_PRICE_EUR'] = df_all['us'] + 1 / df_all['us'] * 1000 / 100\n",
    "#main_df['MWP_PRICE_USD'] = main_df.CRUDE_OIL_USD * value_oil + 400 * main_df.EURUSD\n",
    "#main_df = main_df.loc['2019-06-30':'2022-06-30'].copy()\n",
    "#main_df['MWP_PRICE_EUR_EU'] = main_df['MWP_PRICE_EUR'] + EU_LOGISTIC_COST_EUR\n",
    "#main_df['MWP_PRICE_USD_CN'] = main_df['MWP_PRICE_USD'] + CN_LOGISTIC_COST_USD\n",
    "#main_df['MWP_PRICE_EUR_EU_MA'] = main_df.MWP_PRICE_EUR_EU.rolling(window=3).mean()"
   ]
  },
  {
   "cell_type": "code",
   "execution_count": 51,
   "metadata": {},
   "outputs": [
    {
     "data": {
      "text/html": [
       "<div>\n",
       "<style scoped>\n",
       "    .dataframe tbody tr th:only-of-type {\n",
       "        vertical-align: middle;\n",
       "    }\n",
       "\n",
       "    .dataframe tbody tr th {\n",
       "        vertical-align: top;\n",
       "    }\n",
       "\n",
       "    .dataframe thead th {\n",
       "        text-align: right;\n",
       "    }\n",
       "</style>\n",
       "<table border=\"1\" class=\"dataframe\">\n",
       "  <thead>\n",
       "    <tr style=\"text-align: right;\">\n",
       "      <th></th>\n",
       "      <th>date</th>\n",
       "      <th>grade</th>\n",
       "      <th>us</th>\n",
       "      <th>usdrub</th>\n",
       "      <th>eurusd</th>\n",
       "      <th>eurrub</th>\n",
       "    </tr>\n",
       "  </thead>\n",
       "  <tbody>\n",
       "    <tr>\n",
       "      <th>0</th>\n",
       "      <td>2022-07-29</td>\n",
       "      <td>SMR 20</td>\n",
       "      <td>155.60</td>\n",
       "      <td>62.465000</td>\n",
       "      <td>1.019233</td>\n",
       "      <td>60.304699</td>\n",
       "    </tr>\n",
       "    <tr>\n",
       "      <th>1</th>\n",
       "      <td>2022-07-28</td>\n",
       "      <td>SMR 20</td>\n",
       "      <td>155.40</td>\n",
       "      <td>59.340000</td>\n",
       "      <td>1.020929</td>\n",
       "      <td>60.730202</td>\n",
       "    </tr>\n",
       "    <tr>\n",
       "      <th>2</th>\n",
       "      <td>2022-07-27</td>\n",
       "      <td>SMR 20</td>\n",
       "      <td>155.55</td>\n",
       "      <td>60.090000</td>\n",
       "      <td>1.012956</td>\n",
       "      <td>58.890900</td>\n",
       "    </tr>\n",
       "    <tr>\n",
       "      <th>3</th>\n",
       "      <td>2022-07-26</td>\n",
       "      <td>SMR 20</td>\n",
       "      <td>158.10</td>\n",
       "      <td>58.465000</td>\n",
       "      <td>1.022495</td>\n",
       "      <td>59.380600</td>\n",
       "    </tr>\n",
       "    <tr>\n",
       "      <th>4</th>\n",
       "      <td>2022-07-25</td>\n",
       "      <td>SMR 20</td>\n",
       "      <td>157.70</td>\n",
       "      <td>58.090000</td>\n",
       "      <td>1.020023</td>\n",
       "      <td>58.506199</td>\n",
       "    </tr>\n",
       "    <tr>\n",
       "      <th>5</th>\n",
       "      <td>2022-07-22</td>\n",
       "      <td>SMR 20</td>\n",
       "      <td>155.90</td>\n",
       "      <td>57.965000</td>\n",
       "      <td>1.022108</td>\n",
       "      <td>57.586800</td>\n",
       "    </tr>\n",
       "    <tr>\n",
       "      <th>6</th>\n",
       "      <td>2022-07-21</td>\n",
       "      <td>SMR 20</td>\n",
       "      <td>158.50</td>\n",
       "      <td>54.965099</td>\n",
       "      <td>1.018278</td>\n",
       "      <td>55.344002</td>\n",
       "    </tr>\n",
       "    <tr>\n",
       "      <th>7</th>\n",
       "      <td>2022-07-20</td>\n",
       "      <td>SMR 20</td>\n",
       "      <td>157.80</td>\n",
       "      <td>56.465000</td>\n",
       "      <td>1.023133</td>\n",
       "      <td>57.248199</td>\n",
       "    </tr>\n",
       "    <tr>\n",
       "      <th>8</th>\n",
       "      <td>2022-07-19</td>\n",
       "      <td>SMR 20</td>\n",
       "      <td>158.95</td>\n",
       "      <td>57.715000</td>\n",
       "      <td>1.014518</td>\n",
       "      <td>57.396999</td>\n",
       "    </tr>\n",
       "    <tr>\n",
       "      <th>9</th>\n",
       "      <td>2022-07-18</td>\n",
       "      <td>SMR 20</td>\n",
       "      <td>156.30</td>\n",
       "      <td>110.674103</td>\n",
       "      <td>1.009632</td>\n",
       "      <td>57.491001</td>\n",
       "    </tr>\n",
       "    <tr>\n",
       "      <th>10</th>\n",
       "      <td>2022-07-15</td>\n",
       "      <td>SMR 20</td>\n",
       "      <td>154.10</td>\n",
       "      <td>58.240002</td>\n",
       "      <td>1.002567</td>\n",
       "      <td>57.844002</td>\n",
       "    </tr>\n",
       "    <tr>\n",
       "      <th>11</th>\n",
       "      <td>2022-07-14</td>\n",
       "      <td>SMR 20</td>\n",
       "      <td>157.80</td>\n",
       "      <td>58.439999</td>\n",
       "      <td>1.003271</td>\n",
       "      <td>59.366001</td>\n",
       "    </tr>\n",
       "    <tr>\n",
       "      <th>12</th>\n",
       "      <td>2022-07-13</td>\n",
       "      <td>SMR 20</td>\n",
       "      <td>157.05</td>\n",
       "      <td>58.389999</td>\n",
       "      <td>1.003311</td>\n",
       "      <td>58.869499</td>\n",
       "    </tr>\n",
       "    <tr>\n",
       "      <th>13</th>\n",
       "      <td>2022-07-12</td>\n",
       "      <td>SMR 20</td>\n",
       "      <td>161.70</td>\n",
       "      <td>60.919998</td>\n",
       "      <td>1.004753</td>\n",
       "      <td>61.700100</td>\n",
       "    </tr>\n",
       "    <tr>\n",
       "      <th>14</th>\n",
       "      <td>2022-07-08</td>\n",
       "      <td>SMR 20</td>\n",
       "      <td>161.90</td>\n",
       "      <td>63.040001</td>\n",
       "      <td>1.016984</td>\n",
       "      <td>63.196999</td>\n",
       "    </tr>\n",
       "    <tr>\n",
       "      <th>15</th>\n",
       "      <td>2022-07-07</td>\n",
       "      <td>SMR 20</td>\n",
       "      <td>161.40</td>\n",
       "      <td>63.514999</td>\n",
       "      <td>1.018641</td>\n",
       "      <td>63.789200</td>\n",
       "    </tr>\n",
       "    <tr>\n",
       "      <th>16</th>\n",
       "      <td>2022-07-06</td>\n",
       "      <td>SMR 20</td>\n",
       "      <td>159.45</td>\n",
       "      <td>63.465099</td>\n",
       "      <td>1.025767</td>\n",
       "      <td>60.218800</td>\n",
       "    </tr>\n",
       "    <tr>\n",
       "      <th>17</th>\n",
       "      <td>2022-07-05</td>\n",
       "      <td>SMR 20</td>\n",
       "      <td>163.35</td>\n",
       "      <td>54.500000</td>\n",
       "      <td>1.043319</td>\n",
       "      <td>57.525600</td>\n",
       "    </tr>\n",
       "    <tr>\n",
       "      <th>18</th>\n",
       "      <td>2022-07-04</td>\n",
       "      <td>SMR 20</td>\n",
       "      <td>165.30</td>\n",
       "      <td>53.237499</td>\n",
       "      <td>1.043395</td>\n",
       "      <td>119.526802</td>\n",
       "    </tr>\n",
       "    <tr>\n",
       "      <th>19</th>\n",
       "      <td>2022-07-01</td>\n",
       "      <td>SMR 20</td>\n",
       "      <td>164.80</td>\n",
       "      <td>54.840000</td>\n",
       "      <td>1.047768</td>\n",
       "      <td>55.165401</td>\n",
       "    </tr>\n",
       "  </tbody>\n",
       "</table>\n",
       "</div>"
      ],
      "text/plain": [
       "         date   grade      us      usdrub    eurusd      eurrub\n",
       "0  2022-07-29  SMR 20  155.60   62.465000  1.019233   60.304699\n",
       "1  2022-07-28  SMR 20  155.40   59.340000  1.020929   60.730202\n",
       "2  2022-07-27  SMR 20  155.55   60.090000  1.012956   58.890900\n",
       "3  2022-07-26  SMR 20  158.10   58.465000  1.022495   59.380600\n",
       "4  2022-07-25  SMR 20  157.70   58.090000  1.020023   58.506199\n",
       "5  2022-07-22  SMR 20  155.90   57.965000  1.022108   57.586800\n",
       "6  2022-07-21  SMR 20  158.50   54.965099  1.018278   55.344002\n",
       "7  2022-07-20  SMR 20  157.80   56.465000  1.023133   57.248199\n",
       "8  2022-07-19  SMR 20  158.95   57.715000  1.014518   57.396999\n",
       "9  2022-07-18  SMR 20  156.30  110.674103  1.009632   57.491001\n",
       "10 2022-07-15  SMR 20  154.10   58.240002  1.002567   57.844002\n",
       "11 2022-07-14  SMR 20  157.80   58.439999  1.003271   59.366001\n",
       "12 2022-07-13  SMR 20  157.05   58.389999  1.003311   58.869499\n",
       "13 2022-07-12  SMR 20  161.70   60.919998  1.004753   61.700100\n",
       "14 2022-07-08  SMR 20  161.90   63.040001  1.016984   63.196999\n",
       "15 2022-07-07  SMR 20  161.40   63.514999  1.018641   63.789200\n",
       "16 2022-07-06  SMR 20  159.45   63.465099  1.025767   60.218800\n",
       "17 2022-07-05  SMR 20  163.35   54.500000  1.043319   57.525600\n",
       "18 2022-07-04  SMR 20  165.30   53.237499  1.043395  119.526802\n",
       "19 2022-07-01  SMR 20  164.80   54.840000  1.047768   55.165401"
      ]
     },
     "execution_count": 51,
     "metadata": {},
     "output_type": "execute_result"
    }
   ],
   "source": [
    "df_all"
   ]
  },
  {
   "cell_type": "code",
   "execution_count": 52,
   "metadata": {},
   "outputs": [],
   "source": [
    "#main_df = pd.concat(df_dict.values(), axis=1)\n",
    "#main_df.columns = ['CRUDE_OIL_USD','USDRUB', 'EURUSD', 'EURRUB']\n",
    "#main_df = main_df.loc['2019-06-30':'2022-06-30'].copy()\n",
    "#Базовые цены \n",
    "df_all['MWP_PRICE_EUR'] = df_all.us * 0.8 * (1/df_all.eurusd)\n",
    "df_all['MWP_PRICE_USD'] = df_all.us * 0.8\n",
    "\n",
    "df_all['MWP_PRICE_EUR_EU'] = df_all['MWP_PRICE_EUR'] + EU_LOGISTIC_COST_EUR\n",
    "df_all['MWP_PRICE_USD_CN'] = df_all['MWP_PRICE_USD'] + CN_LOGISTIC_COST_USD\n",
    "df_all['MWP_PRICE_EUR_EU_MA'] = df_all.MWP_PRICE_EUR_EU.rolling(window=3).mean()"
   ]
  },
  {
   "cell_type": "code",
   "execution_count": 53,
   "metadata": {},
   "outputs": [
    {
     "data": {
      "text/html": [
       "<div>\n",
       "<style scoped>\n",
       "    .dataframe tbody tr th:only-of-type {\n",
       "        vertical-align: middle;\n",
       "    }\n",
       "\n",
       "    .dataframe tbody tr th {\n",
       "        vertical-align: top;\n",
       "    }\n",
       "\n",
       "    .dataframe thead th {\n",
       "        text-align: right;\n",
       "    }\n",
       "</style>\n",
       "<table border=\"1\" class=\"dataframe\">\n",
       "  <thead>\n",
       "    <tr style=\"text-align: right;\">\n",
       "      <th></th>\n",
       "      <th>date</th>\n",
       "      <th>grade</th>\n",
       "      <th>us</th>\n",
       "      <th>usdrub</th>\n",
       "      <th>eurusd</th>\n",
       "      <th>eurrub</th>\n",
       "      <th>MWP_PRICE_EUR</th>\n",
       "      <th>MWP_PRICE_USD</th>\n",
       "      <th>MWP_PRICE_EUR_EU</th>\n",
       "      <th>MWP_PRICE_USD_CN</th>\n",
       "      <th>MWP_PRICE_EUR_EU_MA</th>\n",
       "    </tr>\n",
       "  </thead>\n",
       "  <tbody>\n",
       "    <tr>\n",
       "      <th>15</th>\n",
       "      <td>2022-07-07</td>\n",
       "      <td>SMR 20</td>\n",
       "      <td>161.40</td>\n",
       "      <td>63.514999</td>\n",
       "      <td>1.018641</td>\n",
       "      <td>63.789200</td>\n",
       "      <td>126.757106</td>\n",
       "      <td>129.12</td>\n",
       "      <td>156.757106</td>\n",
       "      <td>259.12</td>\n",
       "      <td>157.620748</td>\n",
       "    </tr>\n",
       "    <tr>\n",
       "      <th>16</th>\n",
       "      <td>2022-07-06</td>\n",
       "      <td>SMR 20</td>\n",
       "      <td>159.45</td>\n",
       "      <td>63.465099</td>\n",
       "      <td>1.025767</td>\n",
       "      <td>60.218800</td>\n",
       "      <td>124.355686</td>\n",
       "      <td>127.56</td>\n",
       "      <td>154.355686</td>\n",
       "      <td>257.56</td>\n",
       "      <td>156.156603</td>\n",
       "    </tr>\n",
       "    <tr>\n",
       "      <th>17</th>\n",
       "      <td>2022-07-05</td>\n",
       "      <td>SMR 20</td>\n",
       "      <td>163.35</td>\n",
       "      <td>54.500000</td>\n",
       "      <td>1.043319</td>\n",
       "      <td>57.525600</td>\n",
       "      <td>125.254161</td>\n",
       "      <td>130.68</td>\n",
       "      <td>155.254161</td>\n",
       "      <td>260.68</td>\n",
       "      <td>155.455651</td>\n",
       "    </tr>\n",
       "    <tr>\n",
       "      <th>18</th>\n",
       "      <td>2022-07-04</td>\n",
       "      <td>SMR 20</td>\n",
       "      <td>165.30</td>\n",
       "      <td>53.237499</td>\n",
       "      <td>1.043395</td>\n",
       "      <td>119.526802</td>\n",
       "      <td>126.740137</td>\n",
       "      <td>132.24</td>\n",
       "      <td>156.740137</td>\n",
       "      <td>262.24</td>\n",
       "      <td>155.449995</td>\n",
       "    </tr>\n",
       "    <tr>\n",
       "      <th>19</th>\n",
       "      <td>2022-07-01</td>\n",
       "      <td>SMR 20</td>\n",
       "      <td>164.80</td>\n",
       "      <td>54.840000</td>\n",
       "      <td>1.047768</td>\n",
       "      <td>55.165401</td>\n",
       "      <td>125.829411</td>\n",
       "      <td>131.84</td>\n",
       "      <td>155.829411</td>\n",
       "      <td>261.84</td>\n",
       "      <td>155.941236</td>\n",
       "    </tr>\n",
       "  </tbody>\n",
       "</table>\n",
       "</div>"
      ],
      "text/plain": [
       "         date   grade      us     usdrub    eurusd      eurrub  MWP_PRICE_EUR  \\\n",
       "15 2022-07-07  SMR 20  161.40  63.514999  1.018641   63.789200     126.757106   \n",
       "16 2022-07-06  SMR 20  159.45  63.465099  1.025767   60.218800     124.355686   \n",
       "17 2022-07-05  SMR 20  163.35  54.500000  1.043319   57.525600     125.254161   \n",
       "18 2022-07-04  SMR 20  165.30  53.237499  1.043395  119.526802     126.740137   \n",
       "19 2022-07-01  SMR 20  164.80  54.840000  1.047768   55.165401     125.829411   \n",
       "\n",
       "    MWP_PRICE_USD  MWP_PRICE_EUR_EU  MWP_PRICE_USD_CN  MWP_PRICE_EUR_EU_MA  \n",
       "15         129.12        156.757106            259.12           157.620748  \n",
       "16         127.56        154.355686            257.56           156.156603  \n",
       "17         130.68        155.254161            260.68           155.455651  \n",
       "18         132.24        156.740137            262.24           155.449995  \n",
       "19         131.84        155.829411            261.84           155.941236  "
      ]
     },
     "execution_count": 53,
     "metadata": {},
     "output_type": "execute_result"
    }
   ],
   "source": [
    "df_all.tail()"
   ]
  },
  {
   "cell_type": "code",
   "execution_count": 54,
   "metadata": {},
   "outputs": [],
   "source": [
    "from pylab import rcParams\n",
    "rcParams['figure.figsize'] = 15,7"
   ]
  },
  {
   "cell_type": "code",
   "execution_count": 55,
   "metadata": {},
   "outputs": [
    {
     "data": {
      "image/png": "[encoded data removed]",
      "text/plain": [
       "<Figure size 1080x504 with 1 Axes>"
      ]
     },
     "metadata": {},
     "output_type": "display_data"
    }
   ],
   "source": [
    "# График с базовой ценой(на заводе) в евро\n",
    "plt.title('Цена Синтетического каучука имени группы DA июль, евро', fontsize=16, fontweight='bold')\n",
    "plt.plot(df_all['MWP_PRICE_EUR_EU_MA'], label='MWP_PRICE_EUR_EU_MA')\n",
    "plt.plot(df_all['MWP_PRICE_EUR_EU'], label='MWP_PRICE_EUR_EU')\n",
    "plt.legend()\n",
    "plt.show()"
   ]
  },
  {
   "cell_type": "code",
   "execution_count": null,
   "metadata": {},
   "outputs": [],
   "source": []
  },
  {
   "cell_type": "markdown",
   "metadata": {
    "pycharm": {
     "name": "#%% md\n"
    }
   },
   "source": [
    "# Задание 2. Продолжение"
   ]
  },
  {
   "cell_type": "markdown",
   "metadata": {
    "pycharm": {
     "name": "#%% md\n"
    }
   },
   "source": [
    "Клиенты согласились на ваше предложение.\n",
    "### Что нужно сделать?\n",
    "Вам нужно написать скрипт, с помощью которого можно автоматом рассчитывать цены для всех клиентов одновременно.\n",
    "\n",
    "\n",
    "\n",
    "* В результате должен быть скрипт, который делает расчет цены для клиента (чтобы данные подтягивались туда сами)"
   ]
  },
  {
   "cell_type": "code",
   "execution_count": null,
   "metadata": {
    "collapsed": false,
    "pycharm": {
     "name": "#%%\n"
    }
   },
   "outputs": [],
   "source": [
    "def location():\n",
    "\n",
    "    if o.get('location') != 'EU':\n",
    "        return CN_LOGISTIC_COST_USD\n",
    "    else:\n",
    "        return EU_LOGISTIC_COST_EUR\n",
    "\n",
    "\n",
    "\n",
    "\n",
    "def volumes():\n",
    "    if o.get('volumes') < 100:\n",
    "        return 1\n",
    "    elif 100 < o.get('volumes') < 300:\n",
    "        return 1 - 0.05\n",
    "    else:\n",
    "        return 0.9\n",
    "        \n",
    "\n",
    "\n",
    "def formula():\n",
    "    if o.get('formula') == 'moving_average':\n",
    "        return df_all['MWP_PRICE_EUR_EU_MA'] * volumes() + location()\n",
    "    else:\n",
    "        if o.get('location') == 'EU':\n",
    "            return df_all['MWP_PRICE_EUR_EU'] * volumes() + location()\n",
    "        else:\n",
    "            df_all['MWP_PRICE_USD_CN'] * volumes() + location()\n",
    "\n",
    "\n",
    "\n",
    "\n",
    "for client in customers.values():\n",
    "    \n",
    "    o = client\n",
    "    client_price = formula()"
   ]
  },
  {
   "cell_type": "markdown",
   "metadata": {
    "pycharm": {
     "name": "#%% md\n"
    }
   },
   "source": [
    "# Задание 3. Поделись с ближним"
   ]
  },
  {
   "cell_type": "markdown",
   "metadata": {
    "pycharm": {
     "name": "#%% md\n"
    }
   },
   "source": [
    "Вы решили пойти в отпуск на время вашего отсутствия вас будет заменять коллега. Он будет заниматься рассчетом цен для клиентов. Чтобы ему было проще вам нужно завернуть ваши скрипты в модуль, который будет запускать у себя коллега."
   ]
  },
  {
   "cell_type": "markdown",
   "metadata": {
    "pycharm": {
     "name": "#%% md\n"
    }
   },
   "source": [
    "### Что нужно сделать?\n",
    "* Создайте модуль, который можно запускать в ноутбуке подкладывая в ту же директорию\n",
    "* Хорошенько задокументируйте ВСЁ\n",
    "* Помните о PEP8"
   ]
  },
  {
   "cell_type": "code",
   "execution_count": 3,
   "metadata": {
    "pycharm": {
     "name": "#%%\n"
    }
   },
   "outputs": [],
   "source": [
    "# import yourpackage"
   ]
  },
  {
   "cell_type": "markdown",
   "metadata": {
    "pycharm": {
     "name": "#%% md\n"
    }
   },
   "source": [
    "# Задание 4. Поделись пакетом"
   ]
  },
  {
   "cell_type": "markdown",
   "metadata": {
    "pycharm": {
     "name": "#%% md\n"
    }
   },
   "source": [
    "Ваши коллеги узнали, что вы быстро рассчитываете цены для формульных контрактов, и решили использовать такую же практику для своих продуктов и клиентов. Вам нужно создать пакет, чтобы его было проще устанавливать и использовать."
   ]
  },
  {
   "cell_type": "markdown",
   "metadata": {
    "pycharm": {
     "name": "#%% md\n"
    }
   },
   "source": [
    "### Что нужно сделать?\n",
    "* Создайте отдельный пакет, который можно устанавливать с помощью pip\n",
    "* В пакете должны быть реализованы функции для рассчета цен по формульным контрактам\n",
    "* Выложите пакет в свой репозиторий"
   ]
  },
  {
   "cell_type": "code",
   "execution_count": null,
   "metadata": {
    "pycharm": {
     "name": "#%%\n"
    }
   },
   "outputs": [],
   "source": [
    "# !pip install yourpackage\n",
    "# import yourpackage"
   ]
  }
 ],
 "metadata": {
  "kernelspec": {
   "display_name": "Python 3.10.5 64-bit",
   "language": "python",
   "name": "python3"
  },
  "language_info": {
   "codemirror_mode": {
    "name": "ipython",
    "version": 3
   },
   "file_extension": ".py",
   "mimetype": "text/x-python",
   "name": "python",
   "nbconvert_exporter": "python",
   "pygments_lexer": "ipython3",
   "version": "3.10.5"
  },
  "vscode": {
   "interpreter": {
    "hash": "aee8b7b246df8f9039afb4144a1f6fd8d2ca17a180786b69acc140d282b71a49"
   }
  }
 },
 "nbformat": 4,
 "nbformat_minor": 2
}
