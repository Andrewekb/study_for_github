{
 "cells": [
  {
   "cell_type": "markdown",
   "metadata": {},
   "source": [
    "\n",
    "--task1  (lesson7)\n",
    "-- sqlite3: Сделать тестовый проект с БД (sqlite3, project name: task1_7). \n",
    "--В таблицу table1 записать 1000 строк с случайными значениями (3 колонки, тип int) от 0 до 1000.\n",
    "-- Далее построить гистаграмму распределения этих трех колонко"
   ]
  },
  {
   "cell_type": "code",
   "execution_count": 181,
   "metadata": {},
   "outputs": [],
   "source": [
    "import sqlite3\n",
    "import pandas as pd\n",
    "import matplotlib.pyplot as plt\n",
    "import random"
   ]
  },
  {
   "cell_type": "code",
   "execution_count": 216,
   "metadata": {},
   "outputs": [],
   "source": [
    "conn = sqlite3.connect('task1_7.db')\n",
    "c = conn.cursor()"
   ]
  },
  {
   "cell_type": "code",
   "execution_count": 217,
   "metadata": {},
   "outputs": [],
   "source": [
    "query = 'DROP TABLE IF EXISTS table1'\n",
    "c.execute(query)\n",
    "conn.commit()"
   ]
  },
  {
   "cell_type": "code",
   "execution_count": 218,
   "metadata": {},
   "outputs": [],
   "source": [
    "query = 'CREATE TABLE IF NOT EXISTS table1 (two integer, four integer, five integer)'\n",
    "c.execute(query)\n",
    "conn.commit()"
   ]
  },
  {
   "cell_type": "code",
   "execution_count": 219,
   "metadata": {},
   "outputs": [
    {
     "data": {
      "text/plain": [
       "[[528, 230, 952],\n",
       " [16, 258, 751],\n",
       " [676, 595, 417],\n",
       " [666, 157, 276],\n",
       " [482, 287, 482]]"
      ]
     },
     "execution_count": 219,
     "metadata": {},
     "output_type": "execute_result"
    }
   ],
   "source": [
    "\n",
    "S = []\n",
    "for i in range(1000):\n",
    "    l = [random.randint(1, 1000), random.randint(1,1000), random.randint(1,1000)]\n",
    "    S.append(l)\n",
    "S[0:5]"
   ]
  },
  {
   "cell_type": "code",
   "execution_count": 220,
   "metadata": {},
   "outputs": [],
   "source": [
    "\n",
    "query = 'INSERT INTO table1 VALUES(?, ?, ?)'\n",
    "c.executemany(query, S)\n",
    "\n",
    "conn.commit()"
   ]
  },
  {
   "cell_type": "code",
   "execution_count": 221,
   "metadata": {},
   "outputs": [
    {
     "data": {
      "text/plain": [
       "[(528, 230, 952),\n",
       " (16, 258, 751),\n",
       " (676, 595, 417),\n",
       " (666, 157, 276),\n",
       " (482, 287, 482)]"
      ]
     },
     "execution_count": 221,
     "metadata": {},
     "output_type": "execute_result"
    }
   ],
   "source": [
    "query = 'SELECT * FROM table1'\n",
    "c.execute(query)\n",
    "results = c.fetchall()\n",
    "results[0:5]"
   ]
  },
  {
   "cell_type": "code",
   "execution_count": 222,
   "metadata": {},
   "outputs": [
    {
     "data": {
      "text/html": [
       "<div>\n",
       "<style scoped>\n",
       "    .dataframe tbody tr th:only-of-type {\n",
       "        vertical-align: middle;\n",
       "    }\n",
       "\n",
       "    .dataframe tbody tr th {\n",
       "        vertical-align: top;\n",
       "    }\n",
       "\n",
       "    .dataframe thead th {\n",
       "        text-align: right;\n",
       "    }\n",
       "</style>\n",
       "<table border=\"1\" class=\"dataframe\">\n",
       "  <thead>\n",
       "    <tr style=\"text-align: right;\">\n",
       "      <th></th>\n",
       "      <th>0</th>\n",
       "      <th>1</th>\n",
       "      <th>2</th>\n",
       "    </tr>\n",
       "  </thead>\n",
       "  <tbody>\n",
       "    <tr>\n",
       "      <th>995</th>\n",
       "      <td>131</td>\n",
       "      <td>382</td>\n",
       "      <td>753</td>\n",
       "    </tr>\n",
       "    <tr>\n",
       "      <th>996</th>\n",
       "      <td>843</td>\n",
       "      <td>9</td>\n",
       "      <td>689</td>\n",
       "    </tr>\n",
       "    <tr>\n",
       "      <th>997</th>\n",
       "      <td>778</td>\n",
       "      <td>118</td>\n",
       "      <td>305</td>\n",
       "    </tr>\n",
       "    <tr>\n",
       "      <th>998</th>\n",
       "      <td>854</td>\n",
       "      <td>101</td>\n",
       "      <td>750</td>\n",
       "    </tr>\n",
       "    <tr>\n",
       "      <th>999</th>\n",
       "      <td>231</td>\n",
       "      <td>837</td>\n",
       "      <td>923</td>\n",
       "    </tr>\n",
       "  </tbody>\n",
       "</table>\n",
       "</div>"
      ],
      "text/plain": [
       "       0    1    2\n",
       "995  131  382  753\n",
       "996  843    9  689\n",
       "997  778  118  305\n",
       "998  854  101  750\n",
       "999  231  837  923"
      ]
     },
     "execution_count": 222,
     "metadata": {},
     "output_type": "execute_result"
    }
   ],
   "source": [
    "df = pd.DataFrame(results)\n",
    "df.tail(5)"
   ]
  },
  {
   "cell_type": "code",
   "execution_count": 223,
   "metadata": {},
   "outputs": [
    {
     "data": {
      "image/png": "[encoded data removed]",
      "text/plain": [
       "<Figure size 1152x648 with 1 Axes>"
      ]
     },
     "metadata": {
      "needs_background": "light"
     },
     "output_type": "display_data"
    }
   ],
   "source": [
    "plt.figure(figsize=(16,9))\n",
    "\n",
    "plt.hist(df[0], density=True, bins=60, edgecolor = 'black', alpha=0.4, label='two')\n",
    "plt.hist(df[1], density=True, bins=60, edgecolor = 'black', alpha=0.4, label='four')\n",
    "plt.hist(df[2], density=True, bins=60, edgecolor = 'black', alpha=0.3, label='five')\n",
    "plt.legend(loc='upper right')\n",
    "plt.show()"
   ]
  },
  {
   "cell_type": "markdown",
   "metadata": {},
   "source": [
    "--task2  (lesson7)\n",
    "-- oracle: https://leetcode.com/problems/duplicate-emails/\n",
    "\n",
    "select email from (select email, count(*) c \n",
    "from Person group by email) where c > 1\n"
   ]
  },
  {
   "cell_type": "markdown",
   "metadata": {},
   "source": [
    "--task3  (lesson7)\n",
    "-- oracle: https://leetcode.com/problems/employees-earning-more-than-their-managers/"
   ]
  },
  {
   "cell_type": "markdown",
   "metadata": {},
   "source": [
    "--task4  (lesson7)\n",
    "-- oracle: https://leetcode.com/problems/rank-scores/"
   ]
  },
  {
   "cell_type": "markdown",
   "metadata": {},
   "source": [
    "--task5  (lesson7)\n",
    "-- oracle: https://leetcode.com/problems/combine-two-tables/\n"
   ]
  }
 ],
 "metadata": {
  "kernelspec": {
   "display_name": "Python 3.10.5 64-bit",
   "language": "python",
   "name": "python3"
  },
  "language_info": {
   "codemirror_mode": {
    "name": "ipython",
    "version": 3
   },
   "file_extension": ".py",
   "mimetype": "text/x-python",
   "name": "python",
   "nbconvert_exporter": "python",
   "pygments_lexer": "ipython3",
   "version": "3.10.5"
  },
  "orig_nbformat": 4,
  "vscode": {
   "interpreter": {
    "hash": "aee8b7b246df8f9039afb4144a1f6fd8d2ca17a180786b69acc140d282b71a49"
   }
  }
 },
 "nbformat": 4,
 "nbformat_minor": 2
}
