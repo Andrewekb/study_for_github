{
 "cells": [
  {
   "cell_type": "code",
   "execution_count": 93,
   "metadata": {},
   "outputs": [],
   "source": [
    "import pandas as pd\n",
    "import numpy as np\n",
    "import random\n",
    "import random\n",
    "from tqdm.auto import tqdm\n",
    "import scipy.stats as sts\n",
    "import matplotlib.pyplot as plt"
   ]
  },
  {
   "cell_type": "markdown",
   "metadata": {},
   "source": [
    "Задача 1\n",
    "Брошено две монеты. Найти вероятность того, что монеты выпали разными сторонами"
   ]
  },
  {
   "cell_type": "code",
   "execution_count": 94,
   "metadata": {},
   "outputs": [
    {
     "name": "stdout",
     "output_type": "stream",
     "text": [
      "\"Вероятность события:\"0.49784\n"
     ]
    }
   ],
   "source": [
    " # задаю массив, будем использовать в качестве аргумента в np.random.choice, пусть орлу соответствует 1, решке 0\n",
    "\n",
    "x = np.array([0, 1])\n",
    "\n",
    "#количество подбрасываний одной и второй монеты\n",
    "\n",
    "n = 100000\n",
    "\n",
    "\n",
    "# суммирую результат подбрасывания, нам интересны результаты 0+1 и 1+0, то есть единица в ответе при подбрасываниях поочередных\n",
    "# из первой и второй последовательностей\n",
    "\n",
    "o = list(map( lambda x, y: x + y, np.random.choice(x, n), np.random.choice(x, n)))\n",
    "\n",
    "print(f'\"Вероятность события:\"{o.count(1)/n}')\n"
   ]
  },
  {
   "cell_type": "markdown",
   "metadata": {},
   "source": [
    "Задача 2\n",
    "Брошено три монеты. Описать множество всех элементарных событий. Найти вероятности следующих событий:\n",
    "\n",
    "A = {не выпало ни одного герба}\n",
    "B = {выпало четное число гербов}\n",
    "C = {на третьей монете выпал герб}"
   ]
  },
  {
   "cell_type": "code",
   "execution_count": 97,
   "metadata": {},
   "outputs": [
    {
     "name": "stdout",
     "output_type": "stream",
     "text": [
      "\"Не выпало ни одного герба:\"0.12425\n",
      "\"Выпало четное число гербов:\"0.37692\n",
      "\"На третьей монете выпал герб:\"0.50183\n"
     ]
    }
   ],
   "source": [
    "# решаю аналогично первому заданию\n",
    "\n",
    " # задаю массив, будем использовать в качестве аргумента в np.random.choice, пусть орлу соответствует 1, решке 0\n",
    "\n",
    "x = np.array([0, 1])\n",
    "\n",
    "#количество подбрасываний одной и второй и третьей монет\n",
    "\n",
    "n = 100000\n",
    "\n",
    "# добавляю случайные события для третьей монеты\n",
    "\n",
    "\n",
    "# здесь правомерным будет допущение о том, что монеты бросаются разными людьми одновременно и\n",
    "# результаты фиксируются, в целом, эксперимент не пострадает\n",
    "\n",
    "o = list(np.random.choice(x, n))\n",
    "\n",
    "C = list(map(lambda x, y: x + y, np.random.choice(x, n), np.random.choice(x, n)))\n",
    "C1= list(map(lambda x, y: x + y, o, C))\n",
    "\n",
    "\n",
    "\n",
    "# Соответственно :\n",
    "# A = {не выпало ни одного герба} - считаем сколько получилось нулей\n",
    "# B = {выпало четное число гербов} - то есть сколько получилось двоек\n",
    "# C = {на третьей монете выпал герб} - количество единиц в третьей попытке, \n",
    "\n",
    "\n",
    "print(f'\"Не выпало ни одного герба:\"{C1.count(0)/n}')\n",
    "print(f'\"Выпало четное число гербов:\"{C1.count(2)/n}')\n",
    "print(f'\"На третьей монете выпал герб:\"{o.count(1)/n}')"
   ]
  },
  {
   "cell_type": "markdown",
   "metadata": {},
   "source": [
    "Задача 3\n",
    "Из двух претендентов E и L на ответственную должность три члена комиссии должны отобрать одного. Каждый член комиссии должен указать либо одного достойного, либо забраковать обоих. Претендент считается выбранным, если он был признана достойным хотя бы двумя членами комиссии. Найти вероятность событий:\n",
    "\n",
    "A = {рекомендован L}, B = {рекомендован E}"
   ]
  },
  {
   "cell_type": "code",
   "execution_count": 25,
   "metadata": {},
   "outputs": [
    {
     "name": "stdout",
     "output_type": "stream",
     "text": [
      "\"Множество всех элементарных событий:\" 27\n",
      "\"Положительные исходы для В == для А:\" 7\n",
      "\"Вероятность положительного исхода для В == для А:\" 0.259\n"
     ]
    }
   ],
   "source": [
    "total = np.array([0, 1, 2])\n",
    "l = []      #создаю пустой список, будут добавлены случайные события: [[0, 1, 0], ... [2, 2, 2]\n",
    "N = 100000\n",
    "r = 0       # будут добавлены уникальные исходы\n",
    "i = 1\n",
    "for i in range(N):\n",
    "    a = list(np.random.choice(total, x))\n",
    "    if a not in l:\n",
    "        l.append(list(a))\n",
    "        if a.count(2) >= 2:\n",
    "            r += 1\n",
    "            \n",
    "\n",
    "print(f'\"Множество всех элементарных событий:\" {len(l)}')\n",
    "print(f'\"Положительные исходы для В == для А:\" {r}')\n",
    "print(f'\"Вероятность положительного исхода для В == для А:\" {round(r/len(l), 3)}')\n",
    "\n",
    "\n"
   ]
  },
  {
   "cell_type": "markdown",
   "metadata": {},
   "source": [
    "Задача 4\n",
    "Брошено две игральных кости. Описать множество элементарных событий. Найти вероятности событий:\n",
    "\n",
    "A = {вышло две \"шестерки\"}\n",
    "\n",
    "B = {сумма выпавших очков не меньше 11}\n",
    "\n",
    "C = {не выпала ни одна \"шестерка\"}"
   ]
  },
  {
   "cell_type": "code",
   "execution_count": 30,
   "metadata": {},
   "outputs": [
    {
     "name": "stdout",
     "output_type": "stream",
     "text": [
      "\"вышло две \"шестерки\":\" 0.027\n",
      "\"сумма выпавших очков не меньше 11:\" 0.082\n",
      "\"не выпала ни одна \"шестерка\"\" 0.696\n"
     ]
    }
   ],
   "source": [
    "total = np.array([1, 2, 3, 4, 5, 6])\n",
    "N = 100000\n",
    "n = 2\n",
    "l = []      #здесь создаю случайные события - список списков [[6,1], [2,3]] и тд случайным образом, пока пустой\n",
    "k = 0       #будет добавлено количество событий, при которых не выпала \"шестерка\"\n",
    "for i in range(N):\n",
    "    a = np.random.choice(total, n)\n",
    "    l.append(list(a))\n",
    "    if 6 not in list(a):\n",
    "        k += 1\n",
    "\n",
    "df = pd.DataFrame(l)\n",
    "df['sum'] = df[0] + df[1]       #добавляю колонку в DF - сумма очков на кубиках\n",
    "df\n",
    "P_double = len(df[df['sum'] == 12])/df.shape[0]     #выбираю сумму равную событию [6, 6]\n",
    "P_ell = len(df[df['sum'] >= 11])/df.shape[0]        #выбираю сумму равную событию [5, 6] | [6, 5] | [6, 6]\n",
    "\n",
    "\n",
    "\n",
    "print(f'\"вышло две \"шестерки\":\" {round(P_double, 3)}')\n",
    "print(f'\"сумма выпавших очков не меньше 11:\" {round(P_ell, 3)}')\n",
    "print(f'\"не выпала ни одна \"шестерка\"\" {round(k/df.shape[0], 3)}')\n",
    "\n",
    "\n"
   ]
  },
  {
   "cell_type": "markdown",
   "metadata": {},
   "source": [
    "Вероятность суммы событий\n",
    "Задача 5\n",
    "Брошены две игральные кости. Найти вероятность события D = {выпала хотя бы одна шестёрка}"
   ]
  },
  {
   "cell_type": "code",
   "execution_count": 105,
   "metadata": {},
   "outputs": [
    {
     "name": "stdout",
     "output_type": "stream",
     "text": [
      "\"выпала хотя бы одна \"шестерка\":\" 0.332\n"
     ]
    }
   ],
   "source": [
    "total, n = np.array([1, 2, 3, 4, 5, 6]), 2\n",
    "N = 100000\n",
    "l = []\n",
    "for i in range(N):\n",
    "    l.append(list(np.random.choice(total, n)))\n",
    "df = pd.DataFrame(l)\n",
    "A = len(df[df[0] == 6]) + len(df[df[1] == 6])     #считаю количество 6 в первой и второй колонках, здесь есть небольшая неточность - событие [6, 6] будет учтено дважды\n",
    "                                                    \n",
    "A/df.shape[0]\n",
    "\n",
    "print(f'\"выпала хотя бы одна \"шестерка\":\" {round(A/df.shape[0], 3)}')\n"
   ]
  },
  {
   "cell_type": "markdown",
   "metadata": {},
   "source": [
    "Задача 6\n",
    "В телефонном номере три последние цифры стерлись. Считая, что все возможные значения стершихся цифр равновероятны, найти вероятность событий:\n",
    "\n",
    "A = {Стерлись различные цифры},\n",
    "\n",
    "B = {Стерлись одинаковые цифры},\n",
    "\n",
    "C = {Среди стершихся цифр хотя бы две совпадают},\n",
    "\n",
    "D = {Среди стершихся цифр хотя бы две различны}"
   ]
  },
  {
   "cell_type": "code",
   "execution_count": 107,
   "metadata": {},
   "outputs": [
    {
     "data": {
      "application/vnd.jupyter.widget-view+json": {
       "model_id": "5891a7d7e9a94d0c97f80fbf6be1948d",
       "version_major": 2,
       "version_minor": 0
      },
      "text/plain": [
       "  0%|          | 0/100000 [00:00<?, ?it/s]"
      ]
     },
     "metadata": {},
     "output_type": "display_data"
    },
    {
     "name": "stdout",
     "output_type": "stream",
     "text": [
      "\"Стерлись различные цифры\":\" 0.71684\n",
      "\"Стерлись одинаковые цифры\":\" 0.0094\n",
      "\"Среди стершихся цифр хотя бы две совпадают\":\" 0.28316\n",
      "\"Среди стершихся цифр хотя бы две различны\":\" 0.9906\n"
     ]
    },
    {
     "data": {
      "text/plain": [
       "0.9906"
      ]
     },
     "execution_count": 107,
     "metadata": {},
     "output_type": "execute_result"
    }
   ],
   "source": [
    "\n",
    "A = 0\n",
    "B = 0\n",
    "C = 0\n",
    "D = 0\n",
    "\n",
    "total = np.array([1, 2, 3, 4, 5, 6, 7, 8, 9, 0])\n",
    "l = []\n",
    "N = 100000\n",
    "n = 3\n",
    "a = np.random.choice(total, n)\n",
    "#горожу ifelse, подругому не знаю, как сделать\n",
    "\n",
    "for i in tqdm(range(N)):\n",
    "    a = list(np.random.choice(total, n))\n",
    "    l.append(a)\n",
    "    if (a[0] != a[1]) & (a[0] != a[2]) &  (a[1] != a[2]):\n",
    "        A += 1\n",
    "    if a[0] == a[1] == a[2]:\n",
    "        B += 1\n",
    "    if (a[0] == a[1]) | (a[1] == a[2]) | (a[0] == a[2]):\n",
    "        C += 1\n",
    "    if (a[0] != a[1]) or (a[1] != a[2]) or (a[0] != a[2]):\n",
    "        D += 1\n",
    "    \n",
    "print(f'\"Стерлись различные цифры\":\" {A/len(l)}')\n",
    "print(f'\"Стерлись одинаковые цифры\":\" {B/len(l)}')\n",
    "print(f'\"Среди стершихся цифр хотя бы две совпадают\":\" {C/len(l)}')\n",
    "print(f'\"Среди стершихся цифр хотя бы две различны\":\" {D/len(l)}')\n",
    "\n",
    "#ответ корректный, если обратить внимание на варианты B и D, то их сумма 1\n",
    "\n",
    "\n"
   ]
  },
  {
   "cell_type": "markdown",
   "metadata": {},
   "source": [
    "Задача 8\n",
    "Брошены две игральные кости. Найти закон распределения случайной величины , равной сумме выпавших очков. Найти вероятности событий , "
   ]
  },
  {
   "cell_type": "code",
   "execution_count": 109,
   "metadata": {},
   "outputs": [
    {
     "data": {
      "text/plain": [
       "27964"
      ]
     },
     "execution_count": 109,
     "metadata": {},
     "output_type": "execute_result"
    },
    {
     "data": {
      "image/png": "[encoded data removed]",
      "text/plain": [
       "<Figure size 432x288 with 1 Axes>"
      ]
     },
     "metadata": {
      "needs_background": "light"
     },
     "output_type": "display_data"
    }
   ],
   "source": [
    "B = np.random.choice(range(1,7), 1000000) + np.random.choice(range(1,7), 1000000) #строю распределение, здесь учитываю только сумму на кубиках\n",
    "plt.hist(B, bins=len(set(B)), density=True) #здесь непонятен момент, если не задать bins, то гистограмма для случая выпало 12 очков показывает бОльшую вероятость\n",
    "plt.xlabel('Сумма на кубиках')\n",
    "plt.ylabel('Вероятность')\n",
    "list(B).count(12)"
   ]
  },
  {
   "cell_type": "code",
   "execution_count": 111,
   "metadata": {},
   "outputs": [
    {
     "name": "stdout",
     "output_type": "stream",
     "text": [
      "\"сумма выпавших очков не больше 4:\" 0.167113\n",
      "\"сумма выпавших очков больше 4:\" 0.832887\n",
      "\"Проверка:\" 1.0\n"
     ]
    }
   ],
   "source": [
    "#создаю DF, считаю необходимую вероятность\n",
    "\n",
    "df = pd.DataFrame(B).reset_index() \n",
    "A = len(df[df[0] <= 4])/df.shape[0]\n",
    "B = len(df[df[0] > 4])/df.shape[0]\n",
    "\n",
    "print(f'\"сумма выпавших очков не больше 4:\" {len(df[df[0] <= 4])/df.shape[0]}')\n",
    "print(f'\"сумма выпавших очков больше 4:\" {len(df[df[0] > 4])/df.shape[0]}')\n",
    "print(f'\"Проверка:\" {A + B}')"
   ]
  }
 ],
 "metadata": {
  "kernelspec": {
   "display_name": "Python 3.10.5 64-bit",
   "language": "python",
   "name": "python3"
  },
  "language_info": {
   "codemirror_mode": {
    "name": "ipython",
    "version": 3
   },
   "file_extension": ".py",
   "mimetype": "text/x-python",
   "name": "python",
   "nbconvert_exporter": "python",
   "pygments_lexer": "ipython3",
   "version": "3.10.5"
  },
  "orig_nbformat": 4,
  "vscode": {
   "interpreter": {
    "hash": "aee8b7b246df8f9039afb4144a1f6fd8d2ca17a180786b69acc140d282b71a49"
   }
  }
 },
 "nbformat": 4,
 "nbformat_minor": 2
}
